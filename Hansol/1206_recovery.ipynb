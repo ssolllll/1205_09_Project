{
 "cells": [
  {
   "cell_type": "code",
   "execution_count": null,
   "id": "4b4b47b4",
   "metadata": {
    "scrolled": true
   },
   "outputs": [],
   "source": [
    "#pip install seaborn"
   ]
  },
  {
   "cell_type": "code",
   "execution_count": 2,
   "id": "a6840e37",
   "metadata": {
    "executionInfo": {
     "elapsed": 1835,
     "status": "ok",
     "timestamp": 1670288678136,
     "user": {
      "displayName": "송한솔",
      "userId": "04710129990917859301"
     },
     "user_tz": -540
    },
    "id": "a6840e37"
   },
   "outputs": [],
   "source": [
    "import pandas as pd\n",
    "from tqdm import tqdm\n",
    "import os\n",
    "import numpy as np\n",
    "import seaborn as sns\n",
    "import matplotlib.pyplot as plt\n",
    "import seaborn as sns\n",
    "\n",
    "# # 그래프 표현방식 설정\n",
    "# %matplotlib notebook \n",
    "\n",
    "# from matplotlib import font_manager, rc, rcParams\n",
    "# font_name = font_manager.FontProperties(fname=\"c:/Windows/Fonts/malgun.ttf\").get_name()\n",
    "# rc('font', family=font_name)\n",
    "# rcParams['axes.unicode_minus'] = False\n",
    "\n",
    "# # 그래프 크기 설정\n",
    "# rcParams[\"figure.figsize\"] = (6,4)"
   ]
  },
  {
   "cell_type": "code",
   "execution_count": 3,
   "id": "ad0f501b",
   "metadata": {
    "id": "ad0f501b",
    "scrolled": true
   },
   "outputs": [
    {
     "ename": "FileNotFoundError",
     "evalue": "[Errno 2] No such file or directory: '../data/csv/1206_preprocessing.csv'",
     "output_type": "error",
     "traceback": [
      "\u001b[0;31m---------------------------------------------------------------------------\u001b[0m",
      "\u001b[0;31mFileNotFoundError\u001b[0m                         Traceback (most recent call last)",
      "Cell \u001b[0;32mIn [3], line 1\u001b[0m\n\u001b[0;32m----> 1\u001b[0m df \u001b[38;5;241m=\u001b[39m \u001b[43mpd\u001b[49m\u001b[38;5;241;43m.\u001b[39;49m\u001b[43mread_csv\u001b[49m\u001b[43m(\u001b[49m\u001b[38;5;124;43m'\u001b[39;49m\u001b[38;5;124;43m../data/csv/1206_preprocessing.csv\u001b[39;49m\u001b[38;5;124;43m'\u001b[39;49m\u001b[43m,\u001b[49m\u001b[43mindex_col\u001b[49m\u001b[38;5;241;43m=\u001b[39;49m\u001b[38;5;241;43m0\u001b[39;49m\u001b[43m)\u001b[49m\n",
      "File \u001b[0;32m~/opt/anaconda3/envs/Lecture/lib/python3.9/site-packages/pandas/util/_decorators.py:211\u001b[0m, in \u001b[0;36mdeprecate_kwarg.<locals>._deprecate_kwarg.<locals>.wrapper\u001b[0;34m(*args, **kwargs)\u001b[0m\n\u001b[1;32m    209\u001b[0m     \u001b[38;5;28;01melse\u001b[39;00m:\n\u001b[1;32m    210\u001b[0m         kwargs[new_arg_name] \u001b[38;5;241m=\u001b[39m new_arg_value\n\u001b[0;32m--> 211\u001b[0m \u001b[38;5;28;01mreturn\u001b[39;00m \u001b[43mfunc\u001b[49m\u001b[43m(\u001b[49m\u001b[38;5;241;43m*\u001b[39;49m\u001b[43margs\u001b[49m\u001b[43m,\u001b[49m\u001b[43m \u001b[49m\u001b[38;5;241;43m*\u001b[39;49m\u001b[38;5;241;43m*\u001b[39;49m\u001b[43mkwargs\u001b[49m\u001b[43m)\u001b[49m\n",
      "File \u001b[0;32m~/opt/anaconda3/envs/Lecture/lib/python3.9/site-packages/pandas/util/_decorators.py:331\u001b[0m, in \u001b[0;36mdeprecate_nonkeyword_arguments.<locals>.decorate.<locals>.wrapper\u001b[0;34m(*args, **kwargs)\u001b[0m\n\u001b[1;32m    325\u001b[0m \u001b[38;5;28;01mif\u001b[39;00m \u001b[38;5;28mlen\u001b[39m(args) \u001b[38;5;241m>\u001b[39m num_allow_args:\n\u001b[1;32m    326\u001b[0m     warnings\u001b[38;5;241m.\u001b[39mwarn(\n\u001b[1;32m    327\u001b[0m         msg\u001b[38;5;241m.\u001b[39mformat(arguments\u001b[38;5;241m=\u001b[39m_format_argument_list(allow_args)),\n\u001b[1;32m    328\u001b[0m         \u001b[38;5;167;01mFutureWarning\u001b[39;00m,\n\u001b[1;32m    329\u001b[0m         stacklevel\u001b[38;5;241m=\u001b[39mfind_stack_level(),\n\u001b[1;32m    330\u001b[0m     )\n\u001b[0;32m--> 331\u001b[0m \u001b[38;5;28;01mreturn\u001b[39;00m \u001b[43mfunc\u001b[49m\u001b[43m(\u001b[49m\u001b[38;5;241;43m*\u001b[39;49m\u001b[43margs\u001b[49m\u001b[43m,\u001b[49m\u001b[43m \u001b[49m\u001b[38;5;241;43m*\u001b[39;49m\u001b[38;5;241;43m*\u001b[39;49m\u001b[43mkwargs\u001b[49m\u001b[43m)\u001b[49m\n",
      "File \u001b[0;32m~/opt/anaconda3/envs/Lecture/lib/python3.9/site-packages/pandas/io/parsers/readers.py:950\u001b[0m, in \u001b[0;36mread_csv\u001b[0;34m(filepath_or_buffer, sep, delimiter, header, names, index_col, usecols, squeeze, prefix, mangle_dupe_cols, dtype, engine, converters, true_values, false_values, skipinitialspace, skiprows, skipfooter, nrows, na_values, keep_default_na, na_filter, verbose, skip_blank_lines, parse_dates, infer_datetime_format, keep_date_col, date_parser, dayfirst, cache_dates, iterator, chunksize, compression, thousands, decimal, lineterminator, quotechar, quoting, doublequote, escapechar, comment, encoding, encoding_errors, dialect, error_bad_lines, warn_bad_lines, on_bad_lines, delim_whitespace, low_memory, memory_map, float_precision, storage_options)\u001b[0m\n\u001b[1;32m    935\u001b[0m kwds_defaults \u001b[38;5;241m=\u001b[39m _refine_defaults_read(\n\u001b[1;32m    936\u001b[0m     dialect,\n\u001b[1;32m    937\u001b[0m     delimiter,\n\u001b[0;32m   (...)\u001b[0m\n\u001b[1;32m    946\u001b[0m     defaults\u001b[38;5;241m=\u001b[39m{\u001b[38;5;124m\"\u001b[39m\u001b[38;5;124mdelimiter\u001b[39m\u001b[38;5;124m\"\u001b[39m: \u001b[38;5;124m\"\u001b[39m\u001b[38;5;124m,\u001b[39m\u001b[38;5;124m\"\u001b[39m},\n\u001b[1;32m    947\u001b[0m )\n\u001b[1;32m    948\u001b[0m kwds\u001b[38;5;241m.\u001b[39mupdate(kwds_defaults)\n\u001b[0;32m--> 950\u001b[0m \u001b[38;5;28;01mreturn\u001b[39;00m \u001b[43m_read\u001b[49m\u001b[43m(\u001b[49m\u001b[43mfilepath_or_buffer\u001b[49m\u001b[43m,\u001b[49m\u001b[43m \u001b[49m\u001b[43mkwds\u001b[49m\u001b[43m)\u001b[49m\n",
      "File \u001b[0;32m~/opt/anaconda3/envs/Lecture/lib/python3.9/site-packages/pandas/io/parsers/readers.py:605\u001b[0m, in \u001b[0;36m_read\u001b[0;34m(filepath_or_buffer, kwds)\u001b[0m\n\u001b[1;32m    602\u001b[0m _validate_names(kwds\u001b[38;5;241m.\u001b[39mget(\u001b[38;5;124m\"\u001b[39m\u001b[38;5;124mnames\u001b[39m\u001b[38;5;124m\"\u001b[39m, \u001b[38;5;28;01mNone\u001b[39;00m))\n\u001b[1;32m    604\u001b[0m \u001b[38;5;66;03m# Create the parser.\u001b[39;00m\n\u001b[0;32m--> 605\u001b[0m parser \u001b[38;5;241m=\u001b[39m \u001b[43mTextFileReader\u001b[49m\u001b[43m(\u001b[49m\u001b[43mfilepath_or_buffer\u001b[49m\u001b[43m,\u001b[49m\u001b[43m \u001b[49m\u001b[38;5;241;43m*\u001b[39;49m\u001b[38;5;241;43m*\u001b[39;49m\u001b[43mkwds\u001b[49m\u001b[43m)\u001b[49m\n\u001b[1;32m    607\u001b[0m \u001b[38;5;28;01mif\u001b[39;00m chunksize \u001b[38;5;129;01mor\u001b[39;00m iterator:\n\u001b[1;32m    608\u001b[0m     \u001b[38;5;28;01mreturn\u001b[39;00m parser\n",
      "File \u001b[0;32m~/opt/anaconda3/envs/Lecture/lib/python3.9/site-packages/pandas/io/parsers/readers.py:1442\u001b[0m, in \u001b[0;36mTextFileReader.__init__\u001b[0;34m(self, f, engine, **kwds)\u001b[0m\n\u001b[1;32m   1439\u001b[0m     \u001b[38;5;28mself\u001b[39m\u001b[38;5;241m.\u001b[39moptions[\u001b[38;5;124m\"\u001b[39m\u001b[38;5;124mhas_index_names\u001b[39m\u001b[38;5;124m\"\u001b[39m] \u001b[38;5;241m=\u001b[39m kwds[\u001b[38;5;124m\"\u001b[39m\u001b[38;5;124mhas_index_names\u001b[39m\u001b[38;5;124m\"\u001b[39m]\n\u001b[1;32m   1441\u001b[0m \u001b[38;5;28mself\u001b[39m\u001b[38;5;241m.\u001b[39mhandles: IOHandles \u001b[38;5;241m|\u001b[39m \u001b[38;5;28;01mNone\u001b[39;00m \u001b[38;5;241m=\u001b[39m \u001b[38;5;28;01mNone\u001b[39;00m\n\u001b[0;32m-> 1442\u001b[0m \u001b[38;5;28mself\u001b[39m\u001b[38;5;241m.\u001b[39m_engine \u001b[38;5;241m=\u001b[39m \u001b[38;5;28;43mself\u001b[39;49m\u001b[38;5;241;43m.\u001b[39;49m\u001b[43m_make_engine\u001b[49m\u001b[43m(\u001b[49m\u001b[43mf\u001b[49m\u001b[43m,\u001b[49m\u001b[43m \u001b[49m\u001b[38;5;28;43mself\u001b[39;49m\u001b[38;5;241;43m.\u001b[39;49m\u001b[43mengine\u001b[49m\u001b[43m)\u001b[49m\n",
      "File \u001b[0;32m~/opt/anaconda3/envs/Lecture/lib/python3.9/site-packages/pandas/io/parsers/readers.py:1735\u001b[0m, in \u001b[0;36mTextFileReader._make_engine\u001b[0;34m(self, f, engine)\u001b[0m\n\u001b[1;32m   1733\u001b[0m     \u001b[38;5;28;01mif\u001b[39;00m \u001b[38;5;124m\"\u001b[39m\u001b[38;5;124mb\u001b[39m\u001b[38;5;124m\"\u001b[39m \u001b[38;5;129;01mnot\u001b[39;00m \u001b[38;5;129;01min\u001b[39;00m mode:\n\u001b[1;32m   1734\u001b[0m         mode \u001b[38;5;241m+\u001b[39m\u001b[38;5;241m=\u001b[39m \u001b[38;5;124m\"\u001b[39m\u001b[38;5;124mb\u001b[39m\u001b[38;5;124m\"\u001b[39m\n\u001b[0;32m-> 1735\u001b[0m \u001b[38;5;28mself\u001b[39m\u001b[38;5;241m.\u001b[39mhandles \u001b[38;5;241m=\u001b[39m \u001b[43mget_handle\u001b[49m\u001b[43m(\u001b[49m\n\u001b[1;32m   1736\u001b[0m \u001b[43m    \u001b[49m\u001b[43mf\u001b[49m\u001b[43m,\u001b[49m\n\u001b[1;32m   1737\u001b[0m \u001b[43m    \u001b[49m\u001b[43mmode\u001b[49m\u001b[43m,\u001b[49m\n\u001b[1;32m   1738\u001b[0m \u001b[43m    \u001b[49m\u001b[43mencoding\u001b[49m\u001b[38;5;241;43m=\u001b[39;49m\u001b[38;5;28;43mself\u001b[39;49m\u001b[38;5;241;43m.\u001b[39;49m\u001b[43moptions\u001b[49m\u001b[38;5;241;43m.\u001b[39;49m\u001b[43mget\u001b[49m\u001b[43m(\u001b[49m\u001b[38;5;124;43m\"\u001b[39;49m\u001b[38;5;124;43mencoding\u001b[39;49m\u001b[38;5;124;43m\"\u001b[39;49m\u001b[43m,\u001b[49m\u001b[43m \u001b[49m\u001b[38;5;28;43;01mNone\u001b[39;49;00m\u001b[43m)\u001b[49m\u001b[43m,\u001b[49m\n\u001b[1;32m   1739\u001b[0m \u001b[43m    \u001b[49m\u001b[43mcompression\u001b[49m\u001b[38;5;241;43m=\u001b[39;49m\u001b[38;5;28;43mself\u001b[39;49m\u001b[38;5;241;43m.\u001b[39;49m\u001b[43moptions\u001b[49m\u001b[38;5;241;43m.\u001b[39;49m\u001b[43mget\u001b[49m\u001b[43m(\u001b[49m\u001b[38;5;124;43m\"\u001b[39;49m\u001b[38;5;124;43mcompression\u001b[39;49m\u001b[38;5;124;43m\"\u001b[39;49m\u001b[43m,\u001b[49m\u001b[43m \u001b[49m\u001b[38;5;28;43;01mNone\u001b[39;49;00m\u001b[43m)\u001b[49m\u001b[43m,\u001b[49m\n\u001b[1;32m   1740\u001b[0m \u001b[43m    \u001b[49m\u001b[43mmemory_map\u001b[49m\u001b[38;5;241;43m=\u001b[39;49m\u001b[38;5;28;43mself\u001b[39;49m\u001b[38;5;241;43m.\u001b[39;49m\u001b[43moptions\u001b[49m\u001b[38;5;241;43m.\u001b[39;49m\u001b[43mget\u001b[49m\u001b[43m(\u001b[49m\u001b[38;5;124;43m\"\u001b[39;49m\u001b[38;5;124;43mmemory_map\u001b[39;49m\u001b[38;5;124;43m\"\u001b[39;49m\u001b[43m,\u001b[49m\u001b[43m \u001b[49m\u001b[38;5;28;43;01mFalse\u001b[39;49;00m\u001b[43m)\u001b[49m\u001b[43m,\u001b[49m\n\u001b[1;32m   1741\u001b[0m \u001b[43m    \u001b[49m\u001b[43mis_text\u001b[49m\u001b[38;5;241;43m=\u001b[39;49m\u001b[43mis_text\u001b[49m\u001b[43m,\u001b[49m\n\u001b[1;32m   1742\u001b[0m \u001b[43m    \u001b[49m\u001b[43merrors\u001b[49m\u001b[38;5;241;43m=\u001b[39;49m\u001b[38;5;28;43mself\u001b[39;49m\u001b[38;5;241;43m.\u001b[39;49m\u001b[43moptions\u001b[49m\u001b[38;5;241;43m.\u001b[39;49m\u001b[43mget\u001b[49m\u001b[43m(\u001b[49m\u001b[38;5;124;43m\"\u001b[39;49m\u001b[38;5;124;43mencoding_errors\u001b[39;49m\u001b[38;5;124;43m\"\u001b[39;49m\u001b[43m,\u001b[49m\u001b[43m \u001b[49m\u001b[38;5;124;43m\"\u001b[39;49m\u001b[38;5;124;43mstrict\u001b[39;49m\u001b[38;5;124;43m\"\u001b[39;49m\u001b[43m)\u001b[49m\u001b[43m,\u001b[49m\n\u001b[1;32m   1743\u001b[0m \u001b[43m    \u001b[49m\u001b[43mstorage_options\u001b[49m\u001b[38;5;241;43m=\u001b[39;49m\u001b[38;5;28;43mself\u001b[39;49m\u001b[38;5;241;43m.\u001b[39;49m\u001b[43moptions\u001b[49m\u001b[38;5;241;43m.\u001b[39;49m\u001b[43mget\u001b[49m\u001b[43m(\u001b[49m\u001b[38;5;124;43m\"\u001b[39;49m\u001b[38;5;124;43mstorage_options\u001b[39;49m\u001b[38;5;124;43m\"\u001b[39;49m\u001b[43m,\u001b[49m\u001b[43m \u001b[49m\u001b[38;5;28;43;01mNone\u001b[39;49;00m\u001b[43m)\u001b[49m\u001b[43m,\u001b[49m\n\u001b[1;32m   1744\u001b[0m \u001b[43m\u001b[49m\u001b[43m)\u001b[49m\n\u001b[1;32m   1745\u001b[0m \u001b[38;5;28;01massert\u001b[39;00m \u001b[38;5;28mself\u001b[39m\u001b[38;5;241m.\u001b[39mhandles \u001b[38;5;129;01mis\u001b[39;00m \u001b[38;5;129;01mnot\u001b[39;00m \u001b[38;5;28;01mNone\u001b[39;00m\n\u001b[1;32m   1746\u001b[0m f \u001b[38;5;241m=\u001b[39m \u001b[38;5;28mself\u001b[39m\u001b[38;5;241m.\u001b[39mhandles\u001b[38;5;241m.\u001b[39mhandle\n",
      "File \u001b[0;32m~/opt/anaconda3/envs/Lecture/lib/python3.9/site-packages/pandas/io/common.py:856\u001b[0m, in \u001b[0;36mget_handle\u001b[0;34m(path_or_buf, mode, encoding, compression, memory_map, is_text, errors, storage_options)\u001b[0m\n\u001b[1;32m    851\u001b[0m \u001b[38;5;28;01melif\u001b[39;00m \u001b[38;5;28misinstance\u001b[39m(handle, \u001b[38;5;28mstr\u001b[39m):\n\u001b[1;32m    852\u001b[0m     \u001b[38;5;66;03m# Check whether the filename is to be opened in binary mode.\u001b[39;00m\n\u001b[1;32m    853\u001b[0m     \u001b[38;5;66;03m# Binary mode does not support 'encoding' and 'newline'.\u001b[39;00m\n\u001b[1;32m    854\u001b[0m     \u001b[38;5;28;01mif\u001b[39;00m ioargs\u001b[38;5;241m.\u001b[39mencoding \u001b[38;5;129;01mand\u001b[39;00m \u001b[38;5;124m\"\u001b[39m\u001b[38;5;124mb\u001b[39m\u001b[38;5;124m\"\u001b[39m \u001b[38;5;129;01mnot\u001b[39;00m \u001b[38;5;129;01min\u001b[39;00m ioargs\u001b[38;5;241m.\u001b[39mmode:\n\u001b[1;32m    855\u001b[0m         \u001b[38;5;66;03m# Encoding\u001b[39;00m\n\u001b[0;32m--> 856\u001b[0m         handle \u001b[38;5;241m=\u001b[39m \u001b[38;5;28;43mopen\u001b[39;49m\u001b[43m(\u001b[49m\n\u001b[1;32m    857\u001b[0m \u001b[43m            \u001b[49m\u001b[43mhandle\u001b[49m\u001b[43m,\u001b[49m\n\u001b[1;32m    858\u001b[0m \u001b[43m            \u001b[49m\u001b[43mioargs\u001b[49m\u001b[38;5;241;43m.\u001b[39;49m\u001b[43mmode\u001b[49m\u001b[43m,\u001b[49m\n\u001b[1;32m    859\u001b[0m \u001b[43m            \u001b[49m\u001b[43mencoding\u001b[49m\u001b[38;5;241;43m=\u001b[39;49m\u001b[43mioargs\u001b[49m\u001b[38;5;241;43m.\u001b[39;49m\u001b[43mencoding\u001b[49m\u001b[43m,\u001b[49m\n\u001b[1;32m    860\u001b[0m \u001b[43m            \u001b[49m\u001b[43merrors\u001b[49m\u001b[38;5;241;43m=\u001b[39;49m\u001b[43merrors\u001b[49m\u001b[43m,\u001b[49m\n\u001b[1;32m    861\u001b[0m \u001b[43m            \u001b[49m\u001b[43mnewline\u001b[49m\u001b[38;5;241;43m=\u001b[39;49m\u001b[38;5;124;43m\"\u001b[39;49m\u001b[38;5;124;43m\"\u001b[39;49m\u001b[43m,\u001b[49m\n\u001b[1;32m    862\u001b[0m \u001b[43m        \u001b[49m\u001b[43m)\u001b[49m\n\u001b[1;32m    863\u001b[0m     \u001b[38;5;28;01melse\u001b[39;00m:\n\u001b[1;32m    864\u001b[0m         \u001b[38;5;66;03m# Binary mode\u001b[39;00m\n\u001b[1;32m    865\u001b[0m         handle \u001b[38;5;241m=\u001b[39m \u001b[38;5;28mopen\u001b[39m(handle, ioargs\u001b[38;5;241m.\u001b[39mmode)\n",
      "\u001b[0;31mFileNotFoundError\u001b[0m: [Errno 2] No such file or directory: '../data/csv/1206_preprocessing.csv'"
     ]
    }
   ],
   "source": [
    "df = pd.read_csv('../data/csv/1206_preprocessing.csv',index_col=0)"
   ]
  },
  {
   "cell_type": "code",
   "execution_count": 4,
   "id": "009e649f",
   "metadata": {
    "id": "009e649f",
    "scrolled": true
   },
   "outputs": [],
   "source": [
    "df"
   ]
  },
  {
   "cell_type": "code",
   "execution_count": null,
   "id": "f788adda",
   "metadata": {},
   "outputs": [],
   "source": [
    "# del df['user_session_c']"
   ]
  },
  {
   "cell_type": "code",
   "execution_count": 6,
   "id": "63cd720c",
   "metadata": {
    "id": "63cd720c"
   },
   "outputs": [],
   "source": [
    "del df['category_code_4']"
   ]
  },
  {
   "cell_type": "code",
   "execution_count": null,
   "id": "1bf4d9ff",
   "metadata": {
    "id": "1bf4d9ff"
   },
   "outputs": [],
   "source": [
    "for ind in tqdm(range(len(pur_df))):\n",
    "    dic['{}'.format(pur_df['user_id'][ind])] = 0"
   ]
  },
  {
   "cell_type": "code",
   "execution_count": null,
   "id": "1cdd1534",
   "metadata": {
    "id": "1cdd1534",
    "scrolled": true
   },
   "outputs": [],
   "source": [
    "for ind in tqdm(range(len(pur_df))):\n",
    "    dic['{}'.format(pur_df['user_id'][ind])] += pur_df['price'][ind]"
   ]
  },
  {
   "cell_type": "markdown",
   "id": "cfab5e12",
   "metadata": {
    "id": "cfab5e12"
   },
   "source": [
    "# True 값이 null 값"
   ]
  },
  {
   "cell_type": "code",
   "execution_count": null,
   "id": "5617f57b",
   "metadata": {
    "id": "5617f57b"
   },
   "outputs": [],
   "source": [
    "df_user_top_10['True_False_category_code'] = df_user_top_10['category_code'].isnull()\n",
    "df_user_top_10['True_False_brand'] = df_user_top_10['brand'].isnull()"
   ]
  },
  {
   "cell_type": "code",
   "execution_count": null,
   "id": "2f96a65c",
   "metadata": {
    "id": "2f96a65c",
    "scrolled": true
   },
   "outputs": [],
   "source": [
    "df_user_top_10['True_False_category_code'] = df_user_top_10['category_code'].isnull()\n",
    "df_user_top_10['True_False_brand'] = df_user_top_10['brand'].isnull()\n",
    "lst_null_category_code = {}\n",
    "lst_null_brand = {}\n",
    "for ind in tqdm(range(len(df_user_top_10[:len(df_user_top_10)]))):\n",
    "    if (df_user_top_10['True_False_category_code'][ind] == True) and (df_user_top_10['True_False_brand'][ind] == False):\n",
    "        try:\n",
    "            a= df_user_top_10.query('brand == \"{}\"'.format(df_user_top_10['brand'][ind]))\n",
    "            df_user_top_10['category_code'][ind] = a['category_code'].value_counts().index[0]\n",
    "        except:\n",
    "            lst_null_category_code['{}'.format(ind)] = df_user_top_10.iloc[ind:ind+1]['brand'][ind]\n",
    "    elif (df_user_top_10['True_False_category_code'][ind] == False) and (df_user_top_10['brand'][ind] == True):\n",
    "        try:\n",
    "            a= df_user_top_10.query('category_code == \"{}\"'.format(df_user_top_10['category_code'][ind]))\n",
    "            df_user_top_10['brand'][ind] = a['brand'].value_counts().index[0]\n",
    "        except:\n",
    "            lst_null_category_code['{}'.format(ind)] = df_user_top_10.iloc[ind:ind+1]['category_code'][ind]\n",
    "    elif (df_user_top_10['True_False_category_code'][ind] == True) and (df_user_top_10['True_False_brand'][ind] == True):\n",
    "        df_user_top_10['category_code'][ind] = 'etc'\n",
    "        df_user_top_10['brand'][ind] = 'etc'"
   ]
  },
  {
   "cell_type": "code",
   "execution_count": null,
   "id": "2c157515",
   "metadata": {
    "id": "2c157515",
    "scrolled": true
   },
   "outputs": [],
   "source": [
    "lst_null_category_code"
   ]
  },
  {
   "cell_type": "code",
   "execution_count": null,
   "id": "51fb4e6c",
   "metadata": {
    "id": "51fb4e6c"
   },
   "outputs": [],
   "source": [
    "lst_null_brand"
   ]
  },
  {
   "cell_type": "code",
   "execution_count": null,
   "id": "8e56608f",
   "metadata": {},
   "outputs": [],
   "source": []
  },
  {
   "cell_type": "code",
   "execution_count": null,
   "id": "a3d21920",
   "metadata": {},
   "outputs": [],
   "source": []
  },
  {
   "cell_type": "code",
   "execution_count": null,
   "id": "fa89c458",
   "metadata": {},
   "outputs": [],
   "source": []
  },
  {
   "cell_type": "code",
   "execution_count": null,
   "id": "76f998c3",
   "metadata": {},
   "outputs": [],
   "source": []
  },
  {
   "cell_type": "markdown",
   "id": "c756b5be",
   "metadata": {},
   "source": [
    "# event_type 구별\n",
    "\n",
    "- 1. view\n",
    "- 2. cart\n",
    "- 3. purchase"
   ]
  },
  {
   "cell_type": "code",
   "execution_count": 38,
   "id": "341401f0",
   "metadata": {},
   "outputs": [],
   "source": [
    "# 필요없는 column 제거\n",
    "del df['separate_time']"
   ]
  },
  {
   "cell_type": "code",
   "execution_count": 39,
   "id": "ca1fea10",
   "metadata": {},
   "outputs": [],
   "source": [
    "df['user_id'] = df['user_id'].apply(lambda x: str(x))"
   ]
  },
  {
   "cell_type": "code",
   "execution_count": 40,
   "id": "067edefa",
   "metadata": {
    "id": "eaacdf03"
   },
   "outputs": [],
   "source": [
    "df_purchase = df.query('event_type == \"purchase\"')\n",
    "df_view = df.query('event_type == \"view\"')\n",
    "df_cart = df.query('event_type == \"cart\"')"
   ]
  },
  {
   "cell_type": "code",
   "execution_count": null,
   "id": "2800c7e4",
   "metadata": {
    "id": "eaacdf03"
   },
   "outputs": [],
   "source": [
    "print(df_purchase.shape,df_cart.shape,df_view.shape)"
   ]
  },
  {
   "cell_type": "code",
   "execution_count": 41,
   "id": "4c978a42",
   "metadata": {
    "id": "eaacdf03"
   },
   "outputs": [],
   "source": [
    "df_purchase = df_purchase.reset_index()\n",
    "df_view = df_view.reset_index()\n",
    "df_cart = df_cart.reset_index()"
   ]
  },
  {
   "cell_type": "code",
   "execution_count": 42,
   "id": "eaacdf03",
   "metadata": {
    "id": "eaacdf03"
   },
   "outputs": [],
   "source": [
    "del df_purchase['index']\n",
    "del df_view['index']\n",
    "del df_cart['index']"
   ]
  },
  {
   "cell_type": "code",
   "execution_count": 15,
   "id": "c9bfe452",
   "metadata": {},
   "outputs": [],
   "source": [
    "lst_p_user_id = df_purchase['user_id'].value_counts().index.to_list()\n",
    "lst_v_user_id = df_view['user_id'].value_counts().index.to_list()\n",
    "lst_c_user_id = df_cart['user_id'].value_counts().index.to_list()"
   ]
  },
  {
   "cell_type": "code",
   "execution_count": 16,
   "id": "fd6050ed",
   "metadata": {},
   "outputs": [],
   "source": [
    "dic_p_by_user_id = {}\n",
    "dic_v_by_user_id = {}\n",
    "dic_c_by_user_id = {}"
   ]
  },
  {
   "cell_type": "code",
   "execution_count": 22,
   "id": "8f956019",
   "metadata": {},
   "outputs": [],
   "source": [
    "for ind in lst_p_user_id:\n",
    "    dic_p_by_user_id[f'{ind}'] = 0\n",
    "for ind in lst_v_user_id:\n",
    "    dic_v_by_user_id['{}'.format(ind)] = 0\n",
    "for ind in lst_c_user_id:\n",
    "    dic_c_by_user_id['{}'.format(ind)] = 0"
   ]
  },
  {
   "cell_type": "code",
   "execution_count": 25,
   "id": "8baf13fc",
   "metadata": {
    "scrolled": true
   },
   "outputs": [],
   "source": [
    "for ind in tqdm(range(len(df_purchase))):\n",
    "    dic_p_by_user_id['{}'.format(df_purchase['user_id'][ind])] += df_purchase['price'][ind]\n",
    "    \n",
    "for ind in tqdm(range(len(df_view))):\n",
    "    dic_v_by_user_id['{}'.format(df_view['user_id'][ind])] += df_view['price'][ind]\n",
    "    \n",
    "for ind in tqdm(range(len(df_cart))):\n",
    "    dic_c_by_user_id['{}'.format(df_cart['user_id'][ind])] += df_cart['price'][ind]"
   ]
  },
  {
   "cell_type": "code",
   "execution_count": 27,
   "id": "7814ea7d",
   "metadata": {
    "id": "7814ea7d"
   },
   "outputs": [],
   "source": [
    "# df_user_total_price\n",
    "df_u_t_p = pd.DataFrame()"
   ]
  },
  {
   "cell_type": "code",
   "execution_count": 29,
   "id": "14b3f022",
   "metadata": {
    "id": "14b3f022"
   },
   "outputs": [],
   "source": [
    "df_u_t_p"
   ]
  },
  {
   "cell_type": "code",
   "execution_count": 28,
   "id": "8dd0f26a",
   "metadata": {
    "id": "8dd0f26a"
   },
   "outputs": [],
   "source": [
    "df_u_t_p['user_id'] = dic_p_by_user_id.keys()\n",
    "df_u_t_p['total_price'] = dic_p_by_user_id.values()"
   ]
  },
  {
   "cell_type": "code",
   "execution_count": null,
   "id": "da8b1355",
   "metadata": {},
   "outputs": [],
   "source": [
    "df_user_total_price = df_user_total_price.sort_values(by='total_price',ascending=False)"
   ]
  },
  {
   "cell_type": "code",
   "execution_count": null,
   "id": "0dbb09df",
   "metadata": {},
   "outputs": [],
   "source": [
    "df_user_total_price"
   ]
  },
  {
   "cell_type": "code",
   "execution_count": null,
   "id": "a7fd5263",
   "metadata": {},
   "outputs": [],
   "source": [
    "df_user_price_sum['user_id'].nunique()"
   ]
  },
  {
   "cell_type": "code",
   "execution_count": null,
   "id": "7ce5faa3",
   "metadata": {
    "id": "7ce5faa3"
   },
   "outputs": [],
   "source": [
    "# 10그룹 나누기 위한 숫자\n",
    "\n",
    "n = int(len(df_user_price_sum)*0.1)"
   ]
  },
  {
   "cell_type": "code",
   "execution_count": null,
   "id": "b87532cd",
   "metadata": {},
   "outputs": [],
   "source": [
    "n"
   ]
  },
  {
   "cell_type": "code",
   "execution_count": null,
   "id": "c0f6df38",
   "metadata": {
    "id": "c0f6df38"
   },
   "outputs": [],
   "source": [
    "dic_group = {}"
   ]
  },
  {
   "cell_type": "code",
   "execution_count": null,
   "id": "848a4b9a",
   "metadata": {
    "id": "848a4b9a"
   },
   "outputs": [],
   "source": [
    "for ind in tqdm(range(n*9,len(df_user_price_sum))):\n",
    "    dic_group['{}'.format(df_user_price_sum['user_id'][ind])] = 10"
   ]
  },
  {
   "cell_type": "code",
   "execution_count": null,
   "id": "f004434d",
   "metadata": {
    "id": "f004434d"
   },
   "outputs": [],
   "source": [
    "len(dic_group)"
   ]
  },
  {
   "cell_type": "code",
   "execution_count": null,
   "id": "e4cc28e5",
   "metadata": {
    "id": "e4cc28e5"
   },
   "outputs": [],
   "source": [
    "df_purchase['group'] = 0"
   ]
  },
  {
   "cell_type": "code",
   "execution_count": null,
   "id": "3b020c5b",
   "metadata": {
    "id": "3b020c5b"
   },
   "outputs": [],
   "source": [
    "for ind in tqdm(range(len(df_purchase))):\n",
    "    df_purchase['group'][ind] = dic_group['{}'.format(df_purchase['user_id'][ind])]"
   ]
  },
  {
   "cell_type": "code",
   "execution_count": null,
   "id": "3ce5b915",
   "metadata": {
    "id": "3ce5b915"
   },
   "outputs": [],
   "source": [
    "df_purchase['group'].value_counts()"
   ]
  },
  {
   "cell_type": "code",
   "execution_count": null,
   "id": "b9cf48b7",
   "metadata": {},
   "outputs": [],
   "source": [
    "df_purchase.to_csv('2019-Nov_purchase_data.csv')"
   ]
  },
  {
   "cell_type": "markdown",
   "id": "d638628d",
   "metadata": {},
   "source": [
    "# 상위 10퍼센트 그룹"
   ]
  },
  {
   "cell_type": "code",
   "execution_count": null,
   "id": "41937c52",
   "metadata": {},
   "outputs": [],
   "source": [
    "top_10_EB = pd.read_csv('../data/csv/top_10_EB_data.csv',index_col=0)"
   ]
  },
  {
   "cell_type": "code",
   "execution_count": null,
   "id": "c5d2a3b7",
   "metadata": {},
   "outputs": [],
   "source": [
    "top_10_EB = top_10_EB.reset_index()"
   ]
  },
  {
   "cell_type": "code",
   "execution_count": null,
   "id": "bcea032c",
   "metadata": {},
   "outputs": [],
   "source": [
    "del top_10_EB['index']"
   ]
  },
  {
   "cell_type": "code",
   "execution_count": null,
   "id": "92753e5c",
   "metadata": {},
   "outputs": [],
   "source": [
    "top_10_EB"
   ]
  },
  {
   "cell_type": "markdown",
   "id": "c3964e19",
   "metadata": {},
   "source": [
    "# event_time\n",
    "- 1. view\n",
    "- 2. cart\n",
    "- 3. purchase"
   ]
  },
  {
   "cell_type": "markdown",
   "id": "d281d4e9",
   "metadata": {},
   "source": [
    "### 전처리"
   ]
  },
  {
   "cell_type": "code",
   "execution_count": null,
   "id": "ee21ed4e",
   "metadata": {},
   "outputs": [],
   "source": [
    "from datetime import datetime"
   ]
  },
  {
   "cell_type": "code",
   "execution_count": null,
   "id": "00c664bb",
   "metadata": {},
   "outputs": [],
   "source": [
    "top_10_EB['event_time'] = top_10_EB['event_time'].apply(lambda x:x[:19])"
   ]
  },
  {
   "cell_type": "code",
   "execution_count": null,
   "id": "973c931d",
   "metadata": {},
   "outputs": [],
   "source": [
    "top_10_EB['weekday'] =0"
   ]
  },
  {
   "cell_type": "code",
   "execution_count": null,
   "id": "ce368b4f",
   "metadata": {},
   "outputs": [],
   "source": [
    "top_10_EB['weekday'] = top_10_EB['event_time'].apply(lambda x: datetime.strptime(x, '%Y-%m-%d %H:%M:%S').strftime(\"%A\"))"
   ]
  },
  {
   "cell_type": "code",
   "execution_count": null,
   "id": "a3d1e473",
   "metadata": {},
   "outputs": [],
   "source": [
    "top_10_EB['weekday']"
   ]
  },
  {
   "cell_type": "code",
   "execution_count": null,
   "id": "dca9c9df",
   "metadata": {},
   "outputs": [],
   "source": [
    "top_10_EB['separate_time'] = 0"
   ]
  },
  {
   "cell_type": "code",
   "execution_count": null,
   "id": "acff80d6",
   "metadata": {},
   "outputs": [],
   "source": [
    "int(top_10_EB['event_time'][ind][11:13])"
   ]
  },
  {
   "cell_type": "code",
   "execution_count": null,
   "id": "b5556e58",
   "metadata": {},
   "outputs": [],
   "source": [
    "top_10_EB['time'] = ''"
   ]
  },
  {
   "cell_type": "code",
   "execution_count": null,
   "id": "3c4fad48",
   "metadata": {
    "scrolled": true
   },
   "outputs": [],
   "source": [
    "for ind in tqdm(range(len(top_10_EB))):\n",
    "    a = int(top_10_EB['event_time'][ind][11:13])\n",
    "    if a < 3:\n",
    "        top_10_EB['time'][ind] = '0~3'\n",
    "    elif a >= 3 and a <6:\n",
    "        top_10_EB['time'][ind] = '3~6'\n",
    "    elif a >= 6 and a <9:\n",
    "        top_10_EB['time'][ind] = '6~9'\n",
    "    elif a >= 9 and a <12:\n",
    "        top_10_EB['time'][ind] = '9~12'\n",
    "    elif a >= 12 and a <15:\n",
    "        top_10_EB['time'][ind] = '12~15'\n",
    "    elif a >= 15 and a <18:\n",
    "        top_10_EB['time'][ind] = '15~18'\n",
    "    elif a >= 18 and a <21:\n",
    "        top_10_EB['time'][ind] = '18~21'\n",
    "    elif a >= 21 and a <24:\n",
    "        top_10_EB['time'][ind] = '21~24'"
   ]
  },
  {
   "cell_type": "code",
   "execution_count": null,
   "id": "fa36eced",
   "metadata": {},
   "outputs": [],
   "source": [
    "top_10_EB['time']"
   ]
  },
  {
   "cell_type": "markdown",
   "id": "1610b599",
   "metadata": {},
   "source": [
    "## event_time 시각화"
   ]
  },
  {
   "cell_type": "code",
   "execution_count": 62,
   "id": "bc6713e3",
   "metadata": {},
   "outputs": [],
   "source": [
    "# p : purchase, v: view, c : cart\n",
    "\n",
    "df_p_event_time = pd.DataFrame()\n",
    "df_v_event_time = pd.DataFrame()\n",
    "df_c_event_time = pd.DataFrame()"
   ]
  },
  {
   "cell_type": "markdown",
   "id": "9cf7a96e",
   "metadata": {},
   "source": [
    "- 1. purchase"
   ]
  },
  {
   "cell_type": "code",
   "execution_count": 63,
   "id": "d232f59e",
   "metadata": {},
   "outputs": [],
   "source": [
    "df_p_event_time['time'] = df_purchase['time'].value_counts().index[:10]"
   ]
  },
  {
   "cell_type": "code",
   "execution_count": 56,
   "id": "96dbae8e",
   "metadata": {},
   "outputs": [],
   "source": [
    "len(df_purchase['time'].value_counts())"
   ]
  },
  {
   "cell_type": "code",
   "execution_count": 64,
   "id": "92c2643a",
   "metadata": {},
   "outputs": [],
   "source": [
    "df_p_event_time"
   ]
  },
  {
   "cell_type": "code",
   "execution_count": 65,
   "id": "67a5bdc2",
   "metadata": {
    "scrolled": true
   },
   "outputs": [],
   "source": [
    "df_p_event_time['count'] = 0\n",
    "for ind in range(8):\n",
    "    df_p_event_time['count'][ind] = int(df_purchase['time'].value_counts()[ind])"
   ]
  },
  {
   "cell_type": "code",
   "execution_count": 67,
   "id": "e00dc079",
   "metadata": {
    "scrolled": false
   },
   "outputs": [],
   "source": [
    "plt.figure()\n",
    "# plt.ylim([0, 10000000]) \n",
    "sns.barplot(data=df_p_event_time,x='time',y='count')"
   ]
  },
  {
   "cell_type": "markdown",
   "id": "85f85237",
   "metadata": {},
   "source": [
    "- 2. view"
   ]
  },
  {
   "cell_type": "code",
   "execution_count": 68,
   "id": "e321005f",
   "metadata": {},
   "outputs": [],
   "source": [
    "df_v_event_time['time'] = df_view['time'].value_counts().index"
   ]
  },
  {
   "cell_type": "code",
   "execution_count": 69,
   "id": "2243009d",
   "metadata": {},
   "outputs": [],
   "source": [
    "len(df_view['time'].value_counts())"
   ]
  },
  {
   "cell_type": "code",
   "execution_count": 71,
   "id": "1fc65a8e",
   "metadata": {},
   "outputs": [],
   "source": [
    "df_v_event_time"
   ]
  },
  {
   "cell_type": "code",
   "execution_count": 72,
   "id": "31f3cc8a",
   "metadata": {
    "scrolled": true
   },
   "outputs": [],
   "source": [
    "df_v_event_time['count'] = 0\n",
    "for ind in range(8):\n",
    "    df_v_event_time['count'][ind] = int(df_view['time'].value_counts()[ind])"
   ]
  },
  {
   "cell_type": "code",
   "execution_count": 73,
   "id": "45430f4f",
   "metadata": {
    "scrolled": false
   },
   "outputs": [],
   "source": [
    "plt.figure()\n",
    "# plt.ylim([0, 10000000]) \n",
    "sns.barplot(data=df_v_event_time,x='time',y='count')"
   ]
  },
  {
   "cell_type": "markdown",
   "id": "bcc20bb4",
   "metadata": {},
   "source": [
    "- 3. cart"
   ]
  },
  {
   "cell_type": "code",
   "execution_count": 74,
   "id": "64715ceb",
   "metadata": {},
   "outputs": [],
   "source": [
    "df_c_event_time['time'] = df_cart['time'].value_counts().index"
   ]
  },
  {
   "cell_type": "code",
   "execution_count": 75,
   "id": "ca339a1d",
   "metadata": {},
   "outputs": [],
   "source": [
    "len(df_cart['time'].value_counts())"
   ]
  },
  {
   "cell_type": "code",
   "execution_count": 76,
   "id": "49704e0a",
   "metadata": {},
   "outputs": [],
   "source": [
    "df_c_event_time"
   ]
  },
  {
   "cell_type": "code",
   "execution_count": 77,
   "id": "7792245e",
   "metadata": {
    "scrolled": true
   },
   "outputs": [],
   "source": [
    "df_c_event_time['count'] = 0\n",
    "for ind in range(8):\n",
    "    df_c_event_time['count'][ind] = int(df_cart['time'].value_counts()[ind])"
   ]
  },
  {
   "cell_type": "code",
   "execution_count": 78,
   "id": "b2e10f67",
   "metadata": {},
   "outputs": [],
   "source": [
    "plt.figure()\n",
    "# plt.ylim([0, 10000000]) \n",
    "sns.barplot(data=df_c_event_time,x='time',y='count')"
   ]
  },
  {
   "cell_type": "markdown",
   "id": "1c255e26",
   "metadata": {},
   "source": [
    "## 요일별"
   ]
  },
  {
   "cell_type": "code",
   "execution_count": 79,
   "id": "cf6dda82",
   "metadata": {},
   "outputs": [],
   "source": [
    "df_p_week_day = pd.DataFrame()\n",
    "df_v_week_day = pd.DataFrame()\n",
    "df_c_week_day = pd.DataFrame()"
   ]
  },
  {
   "cell_type": "markdown",
   "id": "663ec834",
   "metadata": {},
   "source": [
    "- 1. purchase"
   ]
  },
  {
   "cell_type": "code",
   "execution_count": 80,
   "id": "c5160858",
   "metadata": {},
   "outputs": [],
   "source": [
    "df_p_week_day['weekday'] = df_purchase['weekday'].value_counts().index"
   ]
  },
  {
   "cell_type": "code",
   "execution_count": 81,
   "id": "3426cd0f",
   "metadata": {},
   "outputs": [],
   "source": [
    "df_p_week_day['count'] = 0"
   ]
  },
  {
   "cell_type": "code",
   "execution_count": 82,
   "id": "b829cf09",
   "metadata": {
    "scrolled": true
   },
   "outputs": [],
   "source": [
    "for ind in range(7):\n",
    "    df_p_week_day['count'][ind] = int(df_purchase['weekday'].value_counts()[ind])"
   ]
  },
  {
   "cell_type": "code",
   "execution_count": 83,
   "id": "9ae45e01",
   "metadata": {
    "scrolled": false
   },
   "outputs": [],
   "source": [
    "plt.figure()\n",
    "# plt.ylim([0, 10000000]) \n",
    "sns.barplot(data=df_p_week_day,x='weekday',y='count')"
   ]
  },
  {
   "cell_type": "markdown",
   "id": "b21c2e1d",
   "metadata": {},
   "source": [
    "- 2. view"
   ]
  },
  {
   "cell_type": "code",
   "execution_count": 84,
   "id": "a3d7fd88",
   "metadata": {},
   "outputs": [],
   "source": [
    "df_v_week_day['weekday'] = df_view['weekday'].value_counts().index"
   ]
  },
  {
   "cell_type": "code",
   "execution_count": 85,
   "id": "6611dcc8",
   "metadata": {},
   "outputs": [],
   "source": [
    "df_v_week_day['count'] = 0"
   ]
  },
  {
   "cell_type": "code",
   "execution_count": 86,
   "id": "fd6652ea",
   "metadata": {
    "scrolled": true
   },
   "outputs": [],
   "source": [
    "for ind in range(7):\n",
    "    df_v_week_day['count'][ind] = int(df_view['weekday'].value_counts()[ind])"
   ]
  },
  {
   "cell_type": "code",
   "execution_count": 87,
   "id": "c4b28d48",
   "metadata": {},
   "outputs": [],
   "source": [
    "plt.figure()\n",
    "# plt.ylim([0, 10000000]) \n",
    "sns.barplot(data=df_v_week_day,x='weekday',y='count')"
   ]
  },
  {
   "cell_type": "markdown",
   "id": "9ed5cffe",
   "metadata": {},
   "source": [
    "- 3. cart"
   ]
  },
  {
   "cell_type": "code",
   "execution_count": 88,
   "id": "36aa35e4",
   "metadata": {},
   "outputs": [],
   "source": [
    "df_c_week_day['weekday'] = df_cart['weekday'].value_counts().index"
   ]
  },
  {
   "cell_type": "code",
   "execution_count": 89,
   "id": "57843afd",
   "metadata": {},
   "outputs": [],
   "source": [
    "df_c_week_day['count'] = 0"
   ]
  },
  {
   "cell_type": "code",
   "execution_count": 90,
   "id": "6fe4b563",
   "metadata": {
    "scrolled": true
   },
   "outputs": [],
   "source": [
    "for ind in range(7):\n",
    "    df_c_week_day['count'][ind] = int(df_cart['weekday'].value_counts()[ind])"
   ]
  },
  {
   "cell_type": "code",
   "execution_count": 91,
   "id": "9b803b80",
   "metadata": {},
   "outputs": [],
   "source": [
    "plt.figure()\n",
    "# plt.ylim([0, 10000000]) \n",
    "sns.barplot(data=df_c_week_day,x='weekday',y='count')"
   ]
  },
  {
   "cell_type": "markdown",
   "id": "05904eaf",
   "metadata": {},
   "source": [
    "# category_code"
   ]
  },
  {
   "cell_type": "code",
   "execution_count": 92,
   "id": "6dd761a3",
   "metadata": {},
   "outputs": [],
   "source": [
    "df_p_cate_code = pd.DataFrame()\n",
    "df_p_cate_code_1 = pd.DataFrame()\n",
    "df_p_cate_code_2 = pd.DataFrame()\n",
    "df_p_cate_code_3 = pd.DataFrame()\n",
    "df_v_cate_code = pd.DataFrame()\n",
    "df_v_cate_code_1 = pd.DataFrame()\n",
    "df_v_cate_code_2 = pd.DataFrame()\n",
    "df_v_cate_code_3 = pd.DataFrame()\n",
    "df_c_cate_code = pd.DataFrame()\n",
    "df_c_cate_code_1 = pd.DataFrame()\n",
    "df_c_cate_code_2 = pd.DataFrame()\n",
    "df_c_cate_code_3 = pd.DataFrame()"
   ]
  },
  {
   "cell_type": "code",
   "execution_count": null,
   "id": "a4f7e42b",
   "metadata": {},
   "outputs": [],
   "source": [
    "df"
   ]
  },
  {
   "cell_type": "code",
   "execution_count": null,
   "id": "8376efa0",
   "metadata": {},
   "outputs": [],
   "source": []
  },
  {
   "cell_type": "code",
   "execution_count": null,
   "id": "96eb42df",
   "metadata": {},
   "outputs": [],
   "source": []
  },
  {
   "cell_type": "code",
   "execution_count": null,
   "id": "6544676e",
   "metadata": {},
   "outputs": [],
   "source": [
    "top_10_EB['category_code_3'].value_counts()[:10]"
   ]
  },
  {
   "cell_type": "code",
   "execution_count": null,
   "id": "1bb74a4c",
   "metadata": {},
   "outputs": [],
   "source": [
    "df_category_code['category_code_3'] = top_10_EB['category_code_3'].value_counts().index[:10]\n",
    "# df_category_code['count'] = top_10_EB['category_code_3'].value_counts()[:10]"
   ]
  },
  {
   "cell_type": "code",
   "execution_count": null,
   "id": "f9b8805f",
   "metadata": {
    "scrolled": true
   },
   "outputs": [],
   "source": [
    "for ind in range(10):\n",
    "    df_category_code['count'][ind] = int(top_10_EB['category_code_3'].value_counts()[ind])"
   ]
  },
  {
   "cell_type": "code",
   "execution_count": null,
   "id": "4b29102e",
   "metadata": {},
   "outputs": [],
   "source": [
    "df_category_code"
   ]
  },
  {
   "cell_type": "code",
   "execution_count": null,
   "id": "2c6c34e5",
   "metadata": {
    "scrolled": false
   },
   "outputs": [],
   "source": [
    "plt.figure()\n",
    "# plt.ylim([0, 10000000]) \n",
    "sns.barplot(data=df_category_code,x='category_code_3',y='count')"
   ]
  },
  {
   "cell_type": "code",
   "execution_count": null,
   "id": "c2a650a8",
   "metadata": {},
   "outputs": [],
   "source": [
    "top_10_EB['category_code'].value_counts()[:10]"
   ]
  },
  {
   "cell_type": "code",
   "execution_count": null,
   "id": "c518a152",
   "metadata": {},
   "outputs": [],
   "source": []
  },
  {
   "cell_type": "code",
   "execution_count": null,
   "id": "0fa144c5",
   "metadata": {},
   "outputs": [],
   "source": []
  },
  {
   "cell_type": "code",
   "execution_count": null,
   "id": "abf8d648",
   "metadata": {},
   "outputs": [],
   "source": []
  },
  {
   "cell_type": "code",
   "execution_count": null,
   "id": "cc3f8940",
   "metadata": {},
   "outputs": [],
   "source": [
    "top_10_EB.to_csv('../data/csv/1206_preprocessing.csv')"
   ]
  },
  {
   "cell_type": "code",
   "execution_count": 94,
   "id": "fb9d3241",
   "metadata": {},
   "outputs": [],
   "source": [
    "df['user_id'].nunique()"
   ]
  },
  {
   "cell_type": "code",
   "execution_count": 97,
   "id": "aa7e7b4c",
   "metadata": {},
   "outputs": [],
   "source": [
    "df['separate'] = 0"
   ]
  },
  {
   "cell_type": "code",
   "execution_count": 100,
   "id": "2fe573c3",
   "metadata": {},
   "outputs": [],
   "source": [
    "for ind in tqdm(range(len(df))):\n",
    "    try:\n",
    "        df['separate'][ind] = len(df['category_code'][ind].split('.'))\n",
    "    except:\n",
    "        print(ind, df['category_code'][ind])"
   ]
  },
  {
   "cell_type": "code",
   "execution_count": 130,
   "id": "7ddbf98c",
   "metadata": {},
   "outputs": [],
   "source": [
    "df"
   ]
  },
  {
   "cell_type": "code",
   "execution_count": null,
   "id": "e6d64936",
   "metadata": {},
   "outputs": [],
   "source": []
  },
  {
   "cell_type": "code",
   "execution_count": 188,
   "id": "5c0cd64a",
   "metadata": {},
   "outputs": [],
   "source": [
    "df_user_id = pd.DataFrame()"
   ]
  },
  {
   "cell_type": "code",
   "execution_count": 184,
   "id": "ffcf475c",
   "metadata": {},
   "outputs": [],
   "source": [
    "df_user_id"
   ]
  },
  {
   "cell_type": "code",
   "execution_count": 189,
   "id": "b1bb8adc",
   "metadata": {},
   "outputs": [],
   "source": [
    "df_user_id['user_id'] = 0\n",
    "df_user_id['view'] = 0\n",
    "df_user_id['cart'] = 0\n",
    "df_user_id['c_purchase'] = 0 # purchase count\n",
    "df_user_id['t_purchase'] = 0 # purchase total amount\n",
    "df_user_id['user_session_unique'] = 0 # per user session count\n",
    "df_user_id['number_behavior'] = 0 # unique user_session count\n",
    "df_user_id['v_brand'] = 0 # brand view\n",
    "df_user_id['c_brand'] = 0 # brand cart \n",
    "df_user_id['p_brand'] = 0 # brand purchase \n",
    "df_user_id['weekday_max'] = 0\n",
    "df_user_id['time_max'] = 0\n",
    "df_user_id['view_price_avg'] = 0 \n",
    "df_user_id['cart_price_avg'] = 0 \n",
    "df_user_id['purchase_price_avg'] = 0 \n",
    "df_user_id['product_id_unique'] = 0 \n",
    "df_user_id['purchase_price_max'] = 0\n",
    "df_user_id['purchase_price_min'] = 0\n",
    "df_user_id['c_category_code'] = 0\n",
    "df_user_id['category_code_max'] = 0 \n",
    "df_user_id['category_code_min'] = 0 \n",
    "df_user_id['CV'] = 0  # view / cart\n",
    "df_user_id['PC'] = 0  # purchase / cart\n",
    "df_user_id['PV'] = 0  # purchase / view\n",
    "df_user_id['VS'] = 0\n",
    "df_user_id['CS'] = 0\n",
    "df_user_id['PS'] = 0"
   ]
  },
  {
   "cell_type": "code",
   "execution_count": 190,
   "id": "e4ace029",
   "metadata": {},
   "outputs": [],
   "source": [
    "df_user_id"
   ]
  },
  {
   "cell_type": "code",
   "execution_count": 151,
   "id": "d7eb6169",
   "metadata": {},
   "outputs": [],
   "source": [
    "pd.DataFrame([i for i in range(27)]).T"
   ]
  },
  {
   "cell_type": "code",
   "execution_count": 132,
   "id": "2a8eaedb",
   "metadata": {
    "scrolled": true
   },
   "outputs": [],
   "source": [
    "a = df['user_id'].unique().tolist()[0]\n",
    "df.query(f'user_id == \"{a}\"')['category_code_1'].value_counts().index[-1]"
   ]
  },
  {
   "cell_type": "code",
   "execution_count": null,
   "id": "04f82287",
   "metadata": {
    "scrolled": true
   },
   "outputs": [],
   "source": [
    "for ind, user in tqdm(enumerate(df['user_id'].unique().tolist())):\n",
    "    df_user_id.loc[ind] = [0 for _ in range(27)]\n",
    "    df_user_id['user_id'][ind] = user\n",
    "    a = df.query(f'user_id == \"{user}\"')\n",
    "    df_user_id['view'][ind] = len(a.query('event_type == \"view\"'))\n",
    "    df_user_id['cart'][ind] = len(a.query('event_type == \"cart\"'))\n",
    "    df_user_id['c_purchase'][ind] = len(a.query('event_type == \"purchase\"'))\n",
    "    df_user_id['t_purchase'][ind] = sum(a.query('event_type == \"purchase\"')['price'])\n",
    "    df_user_id['number_behavior'][ind] = len(a)\n",
    "    df_user_id['user_session_unique'][ind] = a['user_session'].nunique()\n",
    "    df_user_id['v_brand'][ind] = a.query('event_type == \"view\"')['brand'].nunique()\n",
    "    df_user_id['c_brand'][ind] = a.query('event_type == \"cart\"')['brand'].nunique()\n",
    "    df_user_id['p_brand'][ind] = a.query('event_type == \"purchase\"')['brand'].nunique()\n",
    "    df_user_id['weekday_max'][ind] = a['weekday'].value_counts().index[0]\n",
    "    df_user_id['time_max'][ind] = a['time'].value_counts().index[0]\n",
    "    df_user_id['view_price_avg'][ind] =  a.query('event_type == \"view\"')['price'].mean()\n",
    "    df_user_id['cart_price_avg'][ind] =  a.query('event_type == \"cart\"')['price'].mean()\n",
    "    df_user_id['purchase_price_avg'][ind] =  a.query('event_type == \"purchase\"')['price'].mean()\n",
    "    df_user_id['product_id_unique'][ind] =  a['product_id'].nunique()\n",
    "    df_user_id['purchase_price_max'][ind] = max(a.query('event_type == \"purchase\"')['price'])\n",
    "    df_user_id['purchase_price_min'][ind] = min(a.query('event_type == \"purchase\"')['price'])\n",
    "    df_user_id['CV'][ind] = (df_user_id['cart'][ind]/df_user_id['view'][ind])*100\n",
    "    df_user_id['PV'][ind] = (df_user_id['c_purchase'][ind]/df_user_id['view'][ind])*100\n",
    "    df_user_id['VS'][ind] = len(a.query('event_type == \"view\"'))/a['user_session'].nunique()\n",
    "    df_user_id['CS'][ind] = len(a.query('event_type == \"cart\"'))/a['user_session'].nunique()\n",
    "    df_user_id['PS'][ind] = len(a.query('event_type == \"purchase\"'))/a['user_session'].nunique()\n",
    "    try:\n",
    "        df_user_id['category_code_max'][ind] =  a['category_code_1'].value_counts().index[0]\n",
    "        df_user_id['category_code_min'][ind] =  a['category_code_1'].value_counts().index[-1]\n",
    "        df_user_id['PC'][ind] = (df_user_id['c_purchase'][ind]/df_user_id['cart'][ind])*100\n",
    "        df_user_id['c_category_code'][ind] = a['category_code_1'].nunique()\n",
    "    except:\n",
    "        df_user_id['category_code_max'][ind] =  'nan'\n",
    "        df_user_id['category_code_min'][ind] =  'nan'\n",
    "        df_user_id['PC'][ind] = 0\n",
    "        df_user_id['c_category_code'][ind] = 0"
   ]
  },
  {
   "cell_type": "code",
   "execution_count": 177,
   "id": "0c1d64cb",
   "metadata": {},
   "outputs": [],
   "source": [
    "df_user_id.columns"
   ]
  },
  {
   "cell_type": "code",
   "execution_count": 179,
   "id": "429707f4",
   "metadata": {},
   "outputs": [],
   "source": [
    "# df_user_id[['weekday_max','time_max','view_price_avg','cart_price_avg','purchase_price_avg','product_id_unique','purchase_price_max']]"
   ]
  },
  {
   "cell_type": "code",
   "execution_count": null,
   "id": "4a465726",
   "metadata": {},
   "outputs": [],
   "source": [
    "df_user_id.to_csv('df_user_id.csv')"
   ]
  },
  {
   "cell_type": "code",
   "execution_count": null,
   "id": "b6d0fc23",
   "metadata": {},
   "outputs": [],
   "source": []
  }
 ],
 "metadata": {
  "colab": {
   "provenance": []
  },
  "kernelspec": {
   "display_name": "Python 3 (ipykernel)",
   "language": "python",
   "name": "python3"
  },
  "language_info": {
   "codemirror_mode": {
    "name": "ipython",
    "version": 3
   },
   "file_extension": ".py",
   "mimetype": "text/x-python",
   "name": "python",
   "nbconvert_exporter": "python",
   "pygments_lexer": "ipython3",
   "version": "3.9.13"
  }
 },
 "nbformat": 4,
 "nbformat_minor": 5
}
