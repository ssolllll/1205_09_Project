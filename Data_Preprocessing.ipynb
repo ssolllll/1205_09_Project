{
 "cells": [
  {
   "cell_type": "markdown",
   "id": "7aa61f02",
   "metadata": {},
   "source": [
    "# 데이터 전처리"
   ]
  },
  {
   "cell_type": "code",
   "execution_count": 2,
   "id": "8678d534",
   "metadata": {},
   "outputs": [],
   "source": [
    "from datetime import datetime\n",
    "from tqdm import tqdm\n",
    "import os\n",
    "\n",
    "import pandas as pd\n",
    "\n",
    "import warnings\n",
    "warnings.filterwarnings('ignore')"
   ]
  },
  {
   "cell_type": "code",
   "execution_count": 2,
   "id": "1833a434",
   "metadata": {
    "scrolled": true
   },
   "outputs": [],
   "source": [
    "df_raw = pd.read_csv('../Lecture/파이썬_문법/Project_1205_09/data/csv/2019-Nov_1.csv',index_col=0)"
   ]
  },
  {
   "cell_type": "code",
   "execution_count": 3,
   "id": "97df82fc",
   "metadata": {
    "scrolled": false
   },
   "outputs": [
    {
     "data": {
      "text/html": [
       "<div>\n",
       "<style scoped>\n",
       "    .dataframe tbody tr th:only-of-type {\n",
       "        vertical-align: middle;\n",
       "    }\n",
       "\n",
       "    .dataframe tbody tr th {\n",
       "        vertical-align: top;\n",
       "    }\n",
       "\n",
       "    .dataframe thead th {\n",
       "        text-align: right;\n",
       "    }\n",
       "</style>\n",
       "<table border=\"1\" class=\"dataframe\">\n",
       "  <thead>\n",
       "    <tr style=\"text-align: right;\">\n",
       "      <th></th>\n",
       "      <th>event_time</th>\n",
       "      <th>event_type</th>\n",
       "      <th>product_id</th>\n",
       "      <th>category_id</th>\n",
       "      <th>category_code</th>\n",
       "      <th>brand</th>\n",
       "      <th>price</th>\n",
       "      <th>user_id</th>\n",
       "      <th>user_session</th>\n",
       "      <th>category_code_1</th>\n",
       "      <th>category_code_2</th>\n",
       "      <th>category_code_3</th>\n",
       "      <th>category_code_4</th>\n",
       "    </tr>\n",
       "  </thead>\n",
       "  <tbody>\n",
       "    <tr>\n",
       "      <th>0</th>\n",
       "      <td>2019-11-01 00:00:00 UTC</td>\n",
       "      <td>view</td>\n",
       "      <td>1003461</td>\n",
       "      <td>2053013555631882655</td>\n",
       "      <td>electronics.smartphone</td>\n",
       "      <td>xiaomi</td>\n",
       "      <td>489.07</td>\n",
       "      <td>520088904</td>\n",
       "      <td>4d3b30da-a5e4-49df-b1a8-ba5943f1dd33</td>\n",
       "      <td>electronics</td>\n",
       "      <td>NaN</td>\n",
       "      <td>smartphone</td>\n",
       "      <td>NaN</td>\n",
       "    </tr>\n",
       "    <tr>\n",
       "      <th>1</th>\n",
       "      <td>2019-11-01 00:00:00 UTC</td>\n",
       "      <td>view</td>\n",
       "      <td>5000088</td>\n",
       "      <td>2053013566100866035</td>\n",
       "      <td>appliances.sewing_machine</td>\n",
       "      <td>janome</td>\n",
       "      <td>293.65</td>\n",
       "      <td>530496790</td>\n",
       "      <td>8e5f4f83-366c-4f70-860e-ca7417414283</td>\n",
       "      <td>appliances</td>\n",
       "      <td>NaN</td>\n",
       "      <td>sewing_machine</td>\n",
       "      <td>NaN</td>\n",
       "    </tr>\n",
       "    <tr>\n",
       "      <th>2</th>\n",
       "      <td>2019-11-01 00:00:01 UTC</td>\n",
       "      <td>view</td>\n",
       "      <td>17302664</td>\n",
       "      <td>2053013553853497655</td>\n",
       "      <td>NaN</td>\n",
       "      <td>creed</td>\n",
       "      <td>28.31</td>\n",
       "      <td>561587266</td>\n",
       "      <td>755422e7-9040-477b-9bd2-6a6e8fd97387</td>\n",
       "      <td>NaN</td>\n",
       "      <td>NaN</td>\n",
       "      <td>NaN</td>\n",
       "      <td>NaN</td>\n",
       "    </tr>\n",
       "    <tr>\n",
       "      <th>3</th>\n",
       "      <td>2019-11-01 00:00:01 UTC</td>\n",
       "      <td>view</td>\n",
       "      <td>3601530</td>\n",
       "      <td>2053013563810775923</td>\n",
       "      <td>appliances.kitchen.washer</td>\n",
       "      <td>lg</td>\n",
       "      <td>712.87</td>\n",
       "      <td>518085591</td>\n",
       "      <td>3bfb58cd-7892-48cc-8020-2f17e6de6e7f</td>\n",
       "      <td>appliances</td>\n",
       "      <td>kitchen</td>\n",
       "      <td>washer</td>\n",
       "      <td>NaN</td>\n",
       "    </tr>\n",
       "    <tr>\n",
       "      <th>4</th>\n",
       "      <td>2019-11-01 00:00:01 UTC</td>\n",
       "      <td>view</td>\n",
       "      <td>1004775</td>\n",
       "      <td>2053013555631882655</td>\n",
       "      <td>electronics.smartphone</td>\n",
       "      <td>xiaomi</td>\n",
       "      <td>183.27</td>\n",
       "      <td>558856683</td>\n",
       "      <td>313628f1-68b8-460d-84f6-cec7a8796ef2</td>\n",
       "      <td>electronics</td>\n",
       "      <td>NaN</td>\n",
       "      <td>smartphone</td>\n",
       "      <td>NaN</td>\n",
       "    </tr>\n",
       "  </tbody>\n",
       "</table>\n",
       "</div>"
      ],
      "text/plain": [
       "                event_time event_type  product_id          category_id  \\\n",
       "0  2019-11-01 00:00:00 UTC       view     1003461  2053013555631882655   \n",
       "1  2019-11-01 00:00:00 UTC       view     5000088  2053013566100866035   \n",
       "2  2019-11-01 00:00:01 UTC       view    17302664  2053013553853497655   \n",
       "3  2019-11-01 00:00:01 UTC       view     3601530  2053013563810775923   \n",
       "4  2019-11-01 00:00:01 UTC       view     1004775  2053013555631882655   \n",
       "\n",
       "               category_code   brand   price    user_id  \\\n",
       "0     electronics.smartphone  xiaomi  489.07  520088904   \n",
       "1  appliances.sewing_machine  janome  293.65  530496790   \n",
       "2                        NaN   creed   28.31  561587266   \n",
       "3  appliances.kitchen.washer      lg  712.87  518085591   \n",
       "4     electronics.smartphone  xiaomi  183.27  558856683   \n",
       "\n",
       "                           user_session category_code_1 category_code_2  \\\n",
       "0  4d3b30da-a5e4-49df-b1a8-ba5943f1dd33     electronics             NaN   \n",
       "1  8e5f4f83-366c-4f70-860e-ca7417414283      appliances             NaN   \n",
       "2  755422e7-9040-477b-9bd2-6a6e8fd97387             NaN             NaN   \n",
       "3  3bfb58cd-7892-48cc-8020-2f17e6de6e7f      appliances         kitchen   \n",
       "4  313628f1-68b8-460d-84f6-cec7a8796ef2     electronics             NaN   \n",
       "\n",
       "  category_code_3 category_code_4  \n",
       "0      smartphone             NaN  \n",
       "1  sewing_machine             NaN  \n",
       "2             NaN             NaN  \n",
       "3          washer             NaN  \n",
       "4      smartphone             NaN  "
      ]
     },
     "execution_count": 3,
     "metadata": {},
     "output_type": "execute_result"
    }
   ],
   "source": [
    "df_raw.head()"
   ]
  },
  {
   "cell_type": "markdown",
   "id": "ff14a179",
   "metadata": {},
   "source": [
    "## user_session == 1 값 제거\n",
    "- user_session == 1인 경우, 유의미한 행동 패턴 분석이 어렵다 판단하여 1값 제거"
   ]
  },
  {
   "cell_type": "code",
   "execution_count": 4,
   "id": "7463ee1a",
   "metadata": {},
   "outputs": [
    {
     "data": {
      "text/plain": [
       "d99d91bf-40f8-4e29-9593-54b4a1826542    4128\n",
       "fc749a4e-c432-4dae-a0a1-04de89f1e4ea    2466\n",
       "b556f0c7-3a23-44f5-9f34-e713fefa9686    1963\n",
       "d6433d7b-3846-456a-88de-748c3fac2675    1658\n",
       "88206fc3-b5ea-4e3b-be68-67edfbf7009b    1373\n",
       "                                        ... \n",
       "5f90efb4-8c4e-440f-aa88-bf1be39c19f7       1\n",
       "e8e2f9ba-5cca-43b8-abe5-1b85279338b8       1\n",
       "04294bee-917b-4152-9936-c2f36d67109f       1\n",
       "f8ea0a0c-5c55-444b-9206-9c68ab18021d       1\n",
       "90aca71c-ed8a-4670-866a-761ebacb732d       1\n",
       "Name: user_session, Length: 13776050, dtype: int64"
      ]
     },
     "execution_count": 4,
     "metadata": {},
     "output_type": "execute_result"
    }
   ],
   "source": [
    "# user_session 중복값 세기(v_c : value_count)\n",
    "\n",
    "v_c = df_raw['user_session'].value_counts()\n",
    "v_c"
   ]
  },
  {
   "cell_type": "markdown",
   "id": "64f9aadb",
   "metadata": {},
   "source": []
  },
  {
   "cell_type": "code",
   "execution_count": 5,
   "id": "aba09a1c",
   "metadata": {},
   "outputs": [],
   "source": [
    "lst_v_c_idx = v_c.index.to_list()\n",
    "lst_v_c = v_c.to_list()"
   ]
  },
  {
   "cell_type": "code",
   "execution_count": 6,
   "id": "281c3dc4",
   "metadata": {},
   "outputs": [],
   "source": [
    "dic = {}\n",
    "for idx, value in zip(lst_v_c_idx, lst_v_c):\n",
    "    dic[idx] = value"
   ]
  },
  {
   "cell_type": "code",
   "execution_count": 7,
   "id": "86cd4a7d",
   "metadata": {},
   "outputs": [
    {
     "name": "stderr",
     "output_type": "stream",
     "text": [
      "100%|██████████| 67501979/67501979 [1:27:57<00:00, 12790.12it/s]\n"
     ]
    }
   ],
   "source": [
    "# try ~ except : Error idx 확인\n",
    "\n",
    "lst_user_session_c = []\n",
    "df_raw['user_session_c'] = 0\n",
    "for idx in tqdm(range(len(df_raw))):\n",
    "    try:\n",
    "        df_raw['user_session_c'][idx] = dic[df_raw['user_session'][idx]]\n",
    "    except:\n",
    "        lst_user_session_c.append(idx)"
   ]
  },
  {
   "cell_type": "code",
   "execution_count": 8,
   "id": "b1819f91",
   "metadata": {},
   "outputs": [
    {
     "name": "stderr",
     "output_type": "stream",
     "text": [
      "100%|██████████| 10/10 [00:00<00:00, 2723.22it/s]\n"
     ]
    }
   ],
   "source": [
    "# user_session nan 값 또한 제거를 위해 1로 대입.\n",
    "for idx in tqdm(lst_user_session_c):\n",
    "    df_raw['user_session_c'][idx] = 0"
   ]
  },
  {
   "cell_type": "code",
   "execution_count": 9,
   "id": "b052a301",
   "metadata": {},
   "outputs": [],
   "source": [
    "df = df_raw.query('user_session_c != 1')\n",
    "df = df.query('user_session_c != 0')"
   ]
  },
  {
   "cell_type": "markdown",
   "id": "50cd5155",
   "metadata": {},
   "source": [
    "## 상위 누적 구매액 10% 유저 추출"
   ]
  },
  {
   "cell_type": "code",
   "execution_count": 10,
   "id": "8ed5c594",
   "metadata": {},
   "outputs": [
    {
     "data": {
      "text/html": [
       "<div>\n",
       "<style scoped>\n",
       "    .dataframe tbody tr th:only-of-type {\n",
       "        vertical-align: middle;\n",
       "    }\n",
       "\n",
       "    .dataframe tbody tr th {\n",
       "        vertical-align: top;\n",
       "    }\n",
       "\n",
       "    .dataframe thead th {\n",
       "        text-align: right;\n",
       "    }\n",
       "</style>\n",
       "<table border=\"1\" class=\"dataframe\">\n",
       "  <thead>\n",
       "    <tr style=\"text-align: right;\">\n",
       "      <th></th>\n",
       "      <th>event_time</th>\n",
       "      <th>event_type</th>\n",
       "      <th>product_id</th>\n",
       "      <th>category_id</th>\n",
       "      <th>category_code</th>\n",
       "      <th>brand</th>\n",
       "      <th>price</th>\n",
       "      <th>user_id</th>\n",
       "      <th>user_session</th>\n",
       "      <th>category_code_1</th>\n",
       "      <th>category_code_2</th>\n",
       "      <th>category_code_3</th>\n",
       "      <th>category_code_4</th>\n",
       "      <th>user_session_c</th>\n",
       "    </tr>\n",
       "  </thead>\n",
       "  <tbody>\n",
       "    <tr>\n",
       "      <th>0</th>\n",
       "      <td>2019-11-01 00:00:41 UTC</td>\n",
       "      <td>purchase</td>\n",
       "      <td>13200605</td>\n",
       "      <td>2053013557192163841</td>\n",
       "      <td>furniture.bedroom.bed</td>\n",
       "      <td>NaN</td>\n",
       "      <td>566.30</td>\n",
       "      <td>559368633</td>\n",
       "      <td>d6034fa2-41fb-4ac0-9051-55ea9fc9147a</td>\n",
       "      <td>furniture</td>\n",
       "      <td>bedroom</td>\n",
       "      <td>bed</td>\n",
       "      <td>NaN</td>\n",
       "      <td>3</td>\n",
       "    </tr>\n",
       "    <tr>\n",
       "      <th>1</th>\n",
       "      <td>2019-11-01 00:01:04 UTC</td>\n",
       "      <td>purchase</td>\n",
       "      <td>1005161</td>\n",
       "      <td>2053013555631882655</td>\n",
       "      <td>electronics.smartphone</td>\n",
       "      <td>xiaomi</td>\n",
       "      <td>211.92</td>\n",
       "      <td>513351129</td>\n",
       "      <td>e6b7ce9b-1938-4e20-976c-8b4163aea11d</td>\n",
       "      <td>electronics</td>\n",
       "      <td>NaN</td>\n",
       "      <td>smartphone</td>\n",
       "      <td>NaN</td>\n",
       "      <td>2</td>\n",
       "    </tr>\n",
       "    <tr>\n",
       "      <th>2</th>\n",
       "      <td>2019-11-01 00:04:51 UTC</td>\n",
       "      <td>purchase</td>\n",
       "      <td>1004856</td>\n",
       "      <td>2053013555631882655</td>\n",
       "      <td>electronics.smartphone</td>\n",
       "      <td>samsung</td>\n",
       "      <td>128.42</td>\n",
       "      <td>562958505</td>\n",
       "      <td>0f039697-fedc-40fa-8830-39c1a024351d</td>\n",
       "      <td>electronics</td>\n",
       "      <td>NaN</td>\n",
       "      <td>smartphone</td>\n",
       "      <td>NaN</td>\n",
       "      <td>4</td>\n",
       "    </tr>\n",
       "    <tr>\n",
       "      <th>3</th>\n",
       "      <td>2019-11-01 00:05:34 UTC</td>\n",
       "      <td>purchase</td>\n",
       "      <td>26401669</td>\n",
       "      <td>2053013563651392361</td>\n",
       "      <td>NaN</td>\n",
       "      <td>lucente</td>\n",
       "      <td>109.66</td>\n",
       "      <td>541854711</td>\n",
       "      <td>c41c44d5-ef9b-41b9-9cd6-8d96dda6e927</td>\n",
       "      <td>NaN</td>\n",
       "      <td>NaN</td>\n",
       "      <td>NaN</td>\n",
       "      <td>NaN</td>\n",
       "      <td>3</td>\n",
       "    </tr>\n",
       "    <tr>\n",
       "      <th>4</th>\n",
       "      <td>2019-11-01 00:06:33 UTC</td>\n",
       "      <td>purchase</td>\n",
       "      <td>1801881</td>\n",
       "      <td>2053013554415534427</td>\n",
       "      <td>electronics.video.tv</td>\n",
       "      <td>samsung</td>\n",
       "      <td>488.80</td>\n",
       "      <td>557746614</td>\n",
       "      <td>4d76d6d3-fff5-4880-8327-e9e57b618e0e</td>\n",
       "      <td>electronics</td>\n",
       "      <td>video</td>\n",
       "      <td>tv</td>\n",
       "      <td>NaN</td>\n",
       "      <td>25</td>\n",
       "    </tr>\n",
       "  </tbody>\n",
       "</table>\n",
       "</div>"
      ],
      "text/plain": [
       "                event_time event_type  product_id          category_id  \\\n",
       "0  2019-11-01 00:00:41 UTC   purchase    13200605  2053013557192163841   \n",
       "1  2019-11-01 00:01:04 UTC   purchase     1005161  2053013555631882655   \n",
       "2  2019-11-01 00:04:51 UTC   purchase     1004856  2053013555631882655   \n",
       "3  2019-11-01 00:05:34 UTC   purchase    26401669  2053013563651392361   \n",
       "4  2019-11-01 00:06:33 UTC   purchase     1801881  2053013554415534427   \n",
       "\n",
       "            category_code    brand   price    user_id  \\\n",
       "0   furniture.bedroom.bed      NaN  566.30  559368633   \n",
       "1  electronics.smartphone   xiaomi  211.92  513351129   \n",
       "2  electronics.smartphone  samsung  128.42  562958505   \n",
       "3                     NaN  lucente  109.66  541854711   \n",
       "4    electronics.video.tv  samsung  488.80  557746614   \n",
       "\n",
       "                           user_session category_code_1 category_code_2  \\\n",
       "0  d6034fa2-41fb-4ac0-9051-55ea9fc9147a       furniture         bedroom   \n",
       "1  e6b7ce9b-1938-4e20-976c-8b4163aea11d     electronics             NaN   \n",
       "2  0f039697-fedc-40fa-8830-39c1a024351d     electronics             NaN   \n",
       "3  c41c44d5-ef9b-41b9-9cd6-8d96dda6e927             NaN             NaN   \n",
       "4  4d76d6d3-fff5-4880-8327-e9e57b618e0e     electronics           video   \n",
       "\n",
       "  category_code_3 category_code_4  user_session_c  \n",
       "0             bed             NaN               3  \n",
       "1      smartphone             NaN               2  \n",
       "2      smartphone             NaN               4  \n",
       "3             NaN             NaN               3  \n",
       "4              tv             NaN              25  "
      ]
     },
     "execution_count": 10,
     "metadata": {},
     "output_type": "execute_result"
    }
   ],
   "source": [
    "# 상품 구매 상위 10% 유저 구하기 위해 누적 금액 계산\n",
    "\n",
    "df_pur_amount = df.query('event_type == \"purchase\"')\n",
    "df_pur_amount = df_pur_amount.reset_index()\n",
    "del df_pur_amount['index']\n",
    "df_pur_amount.head()"
   ]
  },
  {
   "cell_type": "code",
   "execution_count": 11,
   "id": "10066539",
   "metadata": {},
   "outputs": [
    {
     "name": "stderr",
     "output_type": "stream",
     "text": [
      "100%|██████████| 913677/913677 [00:02<00:00, 364368.67it/s]\n",
      "100%|██████████| 913677/913677 [00:04<00:00, 198764.48it/s]\n"
     ]
    }
   ],
   "source": [
    "dic_acc_pri = {}\n",
    "for idx in tqdm(range(len(df_pur_amount))):\n",
    "    dic_acc_pri['{}'.format(df_pur_amount['user_id'][idx])] = 0\n",
    "    \n",
    "for idx in tqdm(range(len(df_pur_amount))):\n",
    "    dic_acc_pri['{}'.format(df_pur_amount['user_id'][idx])] += df_pur_amount['price'][idx]"
   ]
  },
  {
   "cell_type": "code",
   "execution_count": 12,
   "id": "aca3a7bf",
   "metadata": {},
   "outputs": [],
   "source": [
    "# 개별 유저의 제품 누적 구매액\n",
    "\n",
    "df_user = pd.DataFrame()"
   ]
  },
  {
   "cell_type": "code",
   "execution_count": 13,
   "id": "360a8c16",
   "metadata": {
    "scrolled": true
   },
   "outputs": [],
   "source": [
    "df_user['user_id'] = dic_acc_pri.keys()\n",
    "df_user['acc_pur'] = dic_acc_pri.values()"
   ]
  },
  {
   "cell_type": "code",
   "execution_count": 14,
   "id": "80aa253f",
   "metadata": {},
   "outputs": [],
   "source": [
    "df_user = df_user.sort_values(by =['acc_pur'],ascending=False)"
   ]
  },
  {
   "cell_type": "code",
   "execution_count": 15,
   "id": "9ff186a6",
   "metadata": {},
   "outputs": [],
   "source": [
    "n = (len(df_user)//10)\n",
    "df_user_top10 = df_user.iloc[:int(n)]"
   ]
  },
  {
   "cell_type": "code",
   "execution_count": 16,
   "id": "51ad8082",
   "metadata": {},
   "outputs": [
    {
     "data": {
      "text/html": [
       "<div>\n",
       "<style scoped>\n",
       "    .dataframe tbody tr th:only-of-type {\n",
       "        vertical-align: middle;\n",
       "    }\n",
       "\n",
       "    .dataframe tbody tr th {\n",
       "        vertical-align: top;\n",
       "    }\n",
       "\n",
       "    .dataframe thead th {\n",
       "        text-align: right;\n",
       "    }\n",
       "</style>\n",
       "<table border=\"1\" class=\"dataframe\">\n",
       "  <thead>\n",
       "    <tr style=\"text-align: right;\">\n",
       "      <th></th>\n",
       "      <th>user_id</th>\n",
       "      <th>acc_purchase</th>\n",
       "    </tr>\n",
       "  </thead>\n",
       "  <tbody>\n",
       "    <tr>\n",
       "      <th>230068</th>\n",
       "      <td>518514099</td>\n",
       "      <td>203986.07</td>\n",
       "    </tr>\n",
       "    <tr>\n",
       "      <th>2521</th>\n",
       "      <td>512386086</td>\n",
       "      <td>160092.24</td>\n",
       "    </tr>\n",
       "    <tr>\n",
       "      <th>5586</th>\n",
       "      <td>564068124</td>\n",
       "      <td>131929.20</td>\n",
       "    </tr>\n",
       "    <tr>\n",
       "      <th>969</th>\n",
       "      <td>515715331</td>\n",
       "      <td>117130.12</td>\n",
       "    </tr>\n",
       "    <tr>\n",
       "      <th>187449</th>\n",
       "      <td>521230795</td>\n",
       "      <td>111072.35</td>\n",
       "    </tr>\n",
       "  </tbody>\n",
       "</table>\n",
       "</div>"
      ],
      "text/plain": [
       "          user_id  acc_purchase\n",
       "230068  518514099     203986.07\n",
       "2521    512386086     160092.24\n",
       "5586    564068124     131929.20\n",
       "969     515715331     117130.12\n",
       "187449  521230795     111072.35"
      ]
     },
     "execution_count": 16,
     "metadata": {},
     "output_type": "execute_result"
    }
   ],
   "source": [
    "df_user_top10.head()"
   ]
  },
  {
   "cell_type": "code",
   "execution_count": 17,
   "id": "0fa87aa8",
   "metadata": {},
   "outputs": [],
   "source": [
    "lst_user_top10 = df_user_top10['user_id'].to_list()\n",
    "dic_user_top10 = {}\n",
    "for idx in lst_user_top10:\n",
    "    dic_user_top10[f'{idx}'] = 1"
   ]
  },
  {
   "cell_type": "code",
   "execution_count": 18,
   "id": "2bc56195",
   "metadata": {},
   "outputs": [
    {
     "name": "stderr",
     "output_type": "stream",
     "text": [
      "100%|██████████| 62501002/62501002 [07:41<00:00, 135342.25it/s]\n"
     ]
    }
   ],
   "source": [
    "df['user_top10'] = 0\n",
    "for idx in tqdm(range(len(df))):\n",
    "    try:\n",
    "        df['user_top10'][idx] = dic_user_top10['{}'.format(df['user_id'][idx])]\n",
    "    except:\n",
    "        continue"
   ]
  },
  {
   "cell_type": "code",
   "execution_count": 19,
   "id": "aef9a578",
   "metadata": {},
   "outputs": [
    {
     "data": {
      "text/plain": [
       "0    59354089\n",
       "1     3146913\n",
       "Name: user_top10, dtype: int64"
      ]
     },
     "execution_count": 19,
     "metadata": {},
     "output_type": "execute_result"
    }
   ],
   "source": [
    "df['user_top10'].value_counts()"
   ]
  },
  {
   "cell_type": "code",
   "execution_count": 20,
   "id": "1c048994",
   "metadata": {},
   "outputs": [
    {
     "data": {
      "text/html": [
       "<div>\n",
       "<style scoped>\n",
       "    .dataframe tbody tr th:only-of-type {\n",
       "        vertical-align: middle;\n",
       "    }\n",
       "\n",
       "    .dataframe tbody tr th {\n",
       "        vertical-align: top;\n",
       "    }\n",
       "\n",
       "    .dataframe thead th {\n",
       "        text-align: right;\n",
       "    }\n",
       "</style>\n",
       "<table border=\"1\" class=\"dataframe\">\n",
       "  <thead>\n",
       "    <tr style=\"text-align: right;\">\n",
       "      <th></th>\n",
       "      <th>event_time</th>\n",
       "      <th>event_type</th>\n",
       "      <th>product_id</th>\n",
       "      <th>category_id</th>\n",
       "      <th>category_code</th>\n",
       "      <th>brand</th>\n",
       "      <th>price</th>\n",
       "      <th>user_id</th>\n",
       "      <th>user_session</th>\n",
       "      <th>category_code_1</th>\n",
       "      <th>category_code_2</th>\n",
       "      <th>category_code_3</th>\n",
       "      <th>category_code_4</th>\n",
       "      <th>user_session_c</th>\n",
       "      <th>user_top10</th>\n",
       "    </tr>\n",
       "  </thead>\n",
       "  <tbody>\n",
       "    <tr>\n",
       "      <th>59</th>\n",
       "      <td>2019-11-01 00:00:19 UTC</td>\n",
       "      <td>view</td>\n",
       "      <td>26100002</td>\n",
       "      <td>2053013553887052089</td>\n",
       "      <td>NaN</td>\n",
       "      <td>sulu</td>\n",
       "      <td>51.48</td>\n",
       "      <td>520956879</td>\n",
       "      <td>88e782d0-cb8f-4b25-b09c-6dd9bce06832</td>\n",
       "      <td>NaN</td>\n",
       "      <td>NaN</td>\n",
       "      <td>NaN</td>\n",
       "      <td>NaN</td>\n",
       "      <td>3</td>\n",
       "      <td>1</td>\n",
       "    </tr>\n",
       "    <tr>\n",
       "      <th>259</th>\n",
       "      <td>2019-11-01 00:01:46 UTC</td>\n",
       "      <td>view</td>\n",
       "      <td>39700019</td>\n",
       "      <td>2084962304016777941</td>\n",
       "      <td>apparel.costume</td>\n",
       "      <td>NaN</td>\n",
       "      <td>136.43</td>\n",
       "      <td>516426931</td>\n",
       "      <td>b36a7084-888d-4e37-bad4-cec9cfb1fbce</td>\n",
       "      <td>apparel</td>\n",
       "      <td>NaN</td>\n",
       "      <td>costume</td>\n",
       "      <td>NaN</td>\n",
       "      <td>4</td>\n",
       "      <td>1</td>\n",
       "    </tr>\n",
       "    <tr>\n",
       "      <th>290</th>\n",
       "      <td>2019-11-01 00:02:02 UTC</td>\n",
       "      <td>view</td>\n",
       "      <td>1004873</td>\n",
       "      <td>2053013555631882655</td>\n",
       "      <td>electronics.smartphone</td>\n",
       "      <td>samsung</td>\n",
       "      <td>362.29</td>\n",
       "      <td>524356542</td>\n",
       "      <td>2f44a6ff-59aa-458c-acef-aee764d2ce10</td>\n",
       "      <td>electronics</td>\n",
       "      <td>NaN</td>\n",
       "      <td>smartphone</td>\n",
       "      <td>NaN</td>\n",
       "      <td>24</td>\n",
       "      <td>1</td>\n",
       "    </tr>\n",
       "    <tr>\n",
       "      <th>384</th>\n",
       "      <td>2019-11-01 00:02:36 UTC</td>\n",
       "      <td>view</td>\n",
       "      <td>5100816</td>\n",
       "      <td>2053013553375346967</td>\n",
       "      <td>NaN</td>\n",
       "      <td>xiaomi</td>\n",
       "      <td>29.58</td>\n",
       "      <td>524356542</td>\n",
       "      <td>2f44a6ff-59aa-458c-acef-aee764d2ce10</td>\n",
       "      <td>NaN</td>\n",
       "      <td>NaN</td>\n",
       "      <td>NaN</td>\n",
       "      <td>NaN</td>\n",
       "      <td>24</td>\n",
       "      <td>1</td>\n",
       "    </tr>\n",
       "    <tr>\n",
       "      <th>434</th>\n",
       "      <td>2019-11-01 00:02:56 UTC</td>\n",
       "      <td>view</td>\n",
       "      <td>1005135</td>\n",
       "      <td>2053013555631882655</td>\n",
       "      <td>electronics.smartphone</td>\n",
       "      <td>apple</td>\n",
       "      <td>1665.36</td>\n",
       "      <td>562210838</td>\n",
       "      <td>a58d94c8-c0d4-4f24-bf3c-04c4e69ea153</td>\n",
       "      <td>electronics</td>\n",
       "      <td>NaN</td>\n",
       "      <td>smartphone</td>\n",
       "      <td>NaN</td>\n",
       "      <td>13</td>\n",
       "      <td>1</td>\n",
       "    </tr>\n",
       "  </tbody>\n",
       "</table>\n",
       "</div>"
      ],
      "text/plain": [
       "                  event_time event_type  product_id          category_id  \\\n",
       "59   2019-11-01 00:00:19 UTC       view    26100002  2053013553887052089   \n",
       "259  2019-11-01 00:01:46 UTC       view    39700019  2084962304016777941   \n",
       "290  2019-11-01 00:02:02 UTC       view     1004873  2053013555631882655   \n",
       "384  2019-11-01 00:02:36 UTC       view     5100816  2053013553375346967   \n",
       "434  2019-11-01 00:02:56 UTC       view     1005135  2053013555631882655   \n",
       "\n",
       "              category_code    brand    price    user_id  \\\n",
       "59                      NaN     sulu    51.48  520956879   \n",
       "259         apparel.costume      NaN   136.43  516426931   \n",
       "290  electronics.smartphone  samsung   362.29  524356542   \n",
       "384                     NaN   xiaomi    29.58  524356542   \n",
       "434  electronics.smartphone    apple  1665.36  562210838   \n",
       "\n",
       "                             user_session category_code_1 category_code_2  \\\n",
       "59   88e782d0-cb8f-4b25-b09c-6dd9bce06832             NaN             NaN   \n",
       "259  b36a7084-888d-4e37-bad4-cec9cfb1fbce         apparel             NaN   \n",
       "290  2f44a6ff-59aa-458c-acef-aee764d2ce10     electronics             NaN   \n",
       "384  2f44a6ff-59aa-458c-acef-aee764d2ce10             NaN             NaN   \n",
       "434  a58d94c8-c0d4-4f24-bf3c-04c4e69ea153     electronics             NaN   \n",
       "\n",
       "    category_code_3 category_code_4  user_session_c  user_top10  \n",
       "59              NaN             NaN               3           1  \n",
       "259         costume             NaN               4           1  \n",
       "290      smartphone             NaN              24           1  \n",
       "384             NaN             NaN              24           1  \n",
       "434      smartphone             NaN              13           1  "
      ]
     },
     "execution_count": 20,
     "metadata": {},
     "output_type": "execute_result"
    }
   ],
   "source": [
    "df_top10 = df.query('user_top10 == 1')\n",
    "df_top10.head()"
   ]
  },
  {
   "cell_type": "code",
   "execution_count": 21,
   "id": "3aebbd0b",
   "metadata": {},
   "outputs": [
    {
     "data": {
      "text/html": [
       "<div>\n",
       "<style scoped>\n",
       "    .dataframe tbody tr th:only-of-type {\n",
       "        vertical-align: middle;\n",
       "    }\n",
       "\n",
       "    .dataframe tbody tr th {\n",
       "        vertical-align: top;\n",
       "    }\n",
       "\n",
       "    .dataframe thead th {\n",
       "        text-align: right;\n",
       "    }\n",
       "</style>\n",
       "<table border=\"1\" class=\"dataframe\">\n",
       "  <thead>\n",
       "    <tr style=\"text-align: right;\">\n",
       "      <th></th>\n",
       "      <th>product_id</th>\n",
       "      <th>category_id</th>\n",
       "      <th>price</th>\n",
       "      <th>user_id</th>\n",
       "      <th>user_session_c</th>\n",
       "      <th>user_top10</th>\n",
       "    </tr>\n",
       "  </thead>\n",
       "  <tbody>\n",
       "    <tr>\n",
       "      <th>count</th>\n",
       "      <td>3.146913e+06</td>\n",
       "      <td>3.146913e+06</td>\n",
       "      <td>3.146913e+06</td>\n",
       "      <td>3.146913e+06</td>\n",
       "      <td>3.146913e+06</td>\n",
       "      <td>3146913.0</td>\n",
       "    </tr>\n",
       "    <tr>\n",
       "      <th>mean</th>\n",
       "      <td>9.550945e+06</td>\n",
       "      <td>2.056449e+18</td>\n",
       "      <td>4.785720e+02</td>\n",
       "      <td>5.389170e+08</td>\n",
       "      <td>1.816475e+01</td>\n",
       "      <td>1.0</td>\n",
       "    </tr>\n",
       "    <tr>\n",
       "      <th>std</th>\n",
       "      <td>1.609361e+07</td>\n",
       "      <td>1.749123e+16</td>\n",
       "      <td>4.652784e+02</td>\n",
       "      <td>2.158344e+07</td>\n",
       "      <td>2.359861e+01</td>\n",
       "      <td>0.0</td>\n",
       "    </tr>\n",
       "    <tr>\n",
       "      <th>min</th>\n",
       "      <td>1.000978e+06</td>\n",
       "      <td>2.053014e+18</td>\n",
       "      <td>0.000000e+00</td>\n",
       "      <td>3.047076e+08</td>\n",
       "      <td>2.000000e+00</td>\n",
       "      <td>1.0</td>\n",
       "    </tr>\n",
       "    <tr>\n",
       "      <th>25%</th>\n",
       "      <td>1.005105e+06</td>\n",
       "      <td>2.053014e+18</td>\n",
       "      <td>1.277200e+02</td>\n",
       "      <td>5.164909e+08</td>\n",
       "      <td>5.000000e+00</td>\n",
       "      <td>1.0</td>\n",
       "    </tr>\n",
       "    <tr>\n",
       "      <th>50%</th>\n",
       "      <td>1.801967e+06</td>\n",
       "      <td>2.053014e+18</td>\n",
       "      <td>2.980700e+02</td>\n",
       "      <td>5.374373e+08</td>\n",
       "      <td>1.000000e+01</td>\n",
       "      <td>1.0</td>\n",
       "    </tr>\n",
       "    <tr>\n",
       "      <th>75%</th>\n",
       "      <td>1.271828e+07</td>\n",
       "      <td>2.053014e+18</td>\n",
       "      <td>7.454000e+02</td>\n",
       "      <td>5.600034e+08</td>\n",
       "      <td>2.100000e+01</td>\n",
       "      <td>1.0</td>\n",
       "    </tr>\n",
       "    <tr>\n",
       "      <th>max</th>\n",
       "      <td>1.000248e+08</td>\n",
       "      <td>2.186438e+18</td>\n",
       "      <td>2.574070e+03</td>\n",
       "      <td>5.780192e+08</td>\n",
       "      <td>3.190000e+02</td>\n",
       "      <td>1.0</td>\n",
       "    </tr>\n",
       "  </tbody>\n",
       "</table>\n",
       "</div>"
      ],
      "text/plain": [
       "         product_id   category_id         price       user_id  user_session_c  \\\n",
       "count  3.146913e+06  3.146913e+06  3.146913e+06  3.146913e+06    3.146913e+06   \n",
       "mean   9.550945e+06  2.056449e+18  4.785720e+02  5.389170e+08    1.816475e+01   \n",
       "std    1.609361e+07  1.749123e+16  4.652784e+02  2.158344e+07    2.359861e+01   \n",
       "min    1.000978e+06  2.053014e+18  0.000000e+00  3.047076e+08    2.000000e+00   \n",
       "25%    1.005105e+06  2.053014e+18  1.277200e+02  5.164909e+08    5.000000e+00   \n",
       "50%    1.801967e+06  2.053014e+18  2.980700e+02  5.374373e+08    1.000000e+01   \n",
       "75%    1.271828e+07  2.053014e+18  7.454000e+02  5.600034e+08    2.100000e+01   \n",
       "max    1.000248e+08  2.186438e+18  2.574070e+03  5.780192e+08    3.190000e+02   \n",
       "\n",
       "       user_top10  \n",
       "count   3146913.0  \n",
       "mean          1.0  \n",
       "std           0.0  \n",
       "min           1.0  \n",
       "25%           1.0  \n",
       "50%           1.0  \n",
       "75%           1.0  \n",
       "max           1.0  "
      ]
     },
     "execution_count": 21,
     "metadata": {},
     "output_type": "execute_result"
    }
   ],
   "source": [
    "df_top10.describe()"
   ]
  },
  {
   "cell_type": "code",
   "execution_count": 22,
   "id": "868a7a01",
   "metadata": {},
   "outputs": [
    {
     "data": {
      "text/plain": [
       "view        2455529\n",
       "cart         434693\n",
       "purchase     256691\n",
       "Name: event_type, dtype: int64"
      ]
     },
     "execution_count": 22,
     "metadata": {},
     "output_type": "execute_result"
    }
   ],
   "source": [
    "df_top10['event_type'].value_counts()"
   ]
  },
  {
   "cell_type": "markdown",
   "id": "9c352e79",
   "metadata": {},
   "source": [
    "## feature 생성\n",
    "### 카테고리 분류 나누기 : 대분류, 중분류, 소분류"
   ]
  },
  {
   "cell_type": "code",
   "execution_count": 23,
   "id": "46d8db09",
   "metadata": {},
   "outputs": [],
   "source": [
    "# category_code 1: 대분류, 2 : 중분류, 3: 소분류, 4: 소소분류\n",
    "# 카테고리 분류 결과 더 분류 가능하다 판단해 4까지 진행\n",
    "\n",
    "df_top10['category_code_1'] = ''\n",
    "df_top10['category_code_2'] = ''\n",
    "df_top10['category_code_3'] = ''\n",
    "df_top10['category_code_4'] = ''"
   ]
  },
  {
   "cell_type": "code",
   "execution_count": 24,
   "id": "e47b1b28",
   "metadata": {},
   "outputs": [
    {
     "name": "stderr",
     "output_type": "stream",
     "text": [
      "100%|██████████| 3146913/3146913 [00:30<00:00, 104075.06it/s]\n"
     ]
    }
   ],
   "source": [
    "for idx in tqdm(range(len(df_top10))):\n",
    "    try:\n",
    "        separate = df_top10['category_code'][idx].split('.')\n",
    "        if len(separate) == 2:\n",
    "            df_top10['category_code_1'][idx] = separate[0]\n",
    "            df_top10['category_code_3'][idx] = separate[1]\n",
    "        elif len(separate) == 3:\n",
    "            df_top10['category_code_1'][idx] = separate[0]\n",
    "            df_top10['category_code_2'][idx] = separate[1]\n",
    "            df_top10['category_code_3'][idx] = separate[2]\n",
    "        elif len(separate) == 4:\n",
    "            df_top10['category_code_1'][idx] = separate[0]\n",
    "            df_top10['category_code_2'][idx] = separate[1]\n",
    "            df_top10['category_code_3'][idx] = separate[2]\n",
    "            df_top10['category_code_4'][idx] = separate[3]\n",
    "        else:\n",
    "            print(idx,df_top10['category_code'])\n",
    "    except:\n",
    "        continue"
   ]
  },
  {
   "cell_type": "code",
   "execution_count": 25,
   "id": "4d618917",
   "metadata": {},
   "outputs": [
    {
     "data": {
      "text/plain": [
       "                3043814\n",
       "electronics       75669\n",
       "appliances         8448\n",
       "computers          8385\n",
       "apparel            3712\n",
       "furniture          3369\n",
       "auto               1012\n",
       "construction        898\n",
       "kids                769\n",
       "accessories         511\n",
       "sport               253\n",
       "medicine             59\n",
       "country_yard         11\n",
       "stationery            3\n",
       "Name: category_code_1, dtype: int64"
      ]
     },
     "execution_count": 25,
     "metadata": {},
     "output_type": "execute_result"
    }
   ],
   "source": [
    "# category_code_1 NaNa 값 존재 : 3043814\n",
    "df_top10['category_code_1'].value_counts()"
   ]
  },
  {
   "cell_type": "code",
   "execution_count": 26,
   "id": "c8600a3e",
   "metadata": {},
   "outputs": [
    {
     "data": {
      "text/plain": [
       "               3121077\n",
       "kitchen           6801\n",
       "audio             5206\n",
       "video             4412\n",
       "living_room       1642\n",
       "environment       1522\n",
       "bedroom           1054\n",
       "shoes             1022\n",
       "accessories       1012\n",
       "tools              899\n",
       "peripherals        884\n",
       "components         867\n",
       "personal           262\n",
       "camera             191\n",
       "bathroom            28\n",
       "fmcg                26\n",
       "universal            5\n",
       "furniture            3\n",
       "Name: category_code_2, dtype: int64"
      ]
     },
     "execution_count": 26,
     "metadata": {},
     "output_type": "execute_result"
    }
   ],
   "source": [
    "# category_code_2 NaNa 값 존재 : 3121077\n",
    "df_top10['category_code_2'].value_counts()"
   ]
  },
  {
   "cell_type": "code",
   "execution_count": 27,
   "id": "0d4617e8",
   "metadata": {},
   "outputs": [
    {
     "data": {
      "text/plain": [
       "              3043814\n",
       "smartphone      59909\n",
       "notebook         5367\n",
       "clocks           4699\n",
       "tv               4392\n",
       "               ...   \n",
       "hammok              3\n",
       "scarf               2\n",
       "soldering           2\n",
       "sock                1\n",
       "step_ins            1\n",
       "Name: category_code_3, Length: 117, dtype: int64"
      ]
     },
     "execution_count": 27,
     "metadata": {},
     "output_type": "execute_result"
    }
   ],
   "source": [
    "# category_code_3 NaNa 값 존재 : 3043814\n",
    "df_top10['category_code_3'].value_counts()"
   ]
  },
  {
   "cell_type": "markdown",
   "id": "0c737831",
   "metadata": {},
   "source": [
    "## Data NaN value check"
   ]
  },
  {
   "cell_type": "code",
   "execution_count": 28,
   "id": "e773e845",
   "metadata": {},
   "outputs": [],
   "source": [
    "def NaN_check(series):\n",
    "    return series.isnull().sum()"
   ]
  },
  {
   "cell_type": "code",
   "execution_count": 29,
   "id": "6df9fa34",
   "metadata": {},
   "outputs": [
    {
     "data": {
      "text/plain": [
       "(0, 0)"
      ]
     },
     "execution_count": 29,
     "metadata": {},
     "output_type": "execute_result"
    }
   ],
   "source": [
    "NaN_check(df['event_time']),NaN_check(df['event_type'])"
   ]
  },
  {
   "cell_type": "code",
   "execution_count": 30,
   "id": "e85a9c39",
   "metadata": {},
   "outputs": [
    {
     "data": {
      "text/plain": [
       "(0, 0)"
      ]
     },
     "execution_count": 30,
     "metadata": {},
     "output_type": "execute_result"
    }
   ],
   "source": [
    "NaN_check(df['product_id']),NaN_check(df['category_id'])"
   ]
  },
  {
   "cell_type": "code",
   "execution_count": 31,
   "id": "a24cec78",
   "metadata": {},
   "outputs": [
    {
     "data": {
      "text/plain": [
       "(0, 20268190, 8577955)"
      ]
     },
     "execution_count": 31,
     "metadata": {},
     "output_type": "execute_result"
    }
   ],
   "source": [
    "NaN_check(df['price']),NaN_check(df['category_code']),NaN_check(df['brand']),"
   ]
  },
  {
   "cell_type": "markdown",
   "id": "699a31f4",
   "metadata": {},
   "source": [
    "## NaN 값 처리"
   ]
  },
  {
   "cell_type": "markdown",
   "id": "4025d5c0",
   "metadata": {},
   "source": [
    "- 데이터에서 nan 값은 category_code, brand에 존재.\n",
    "- 데이터에서 nan 값을 drop하는 방법도 고안했지만 user의 유의미한 행동 패턴을 분석하고자 가급적 nan값이 포함된 행을 살리는 방향으로 선택.\n",
    "- 데이터 nan 값은 총 3가지 경우"
   ]
  },
  {
   "cell_type": "markdown",
   "id": "4fffdb47",
   "metadata": {},
   "source": [
    "||   경우의 수   |해결방안|\n",
    "|:-------|:---------|----:|\n",
    "|1|category_code만 nan 값 존재| 해당 행들의 brand 중 최다 빈도로 나온 category_code로 대입|\n",
    "|2|brand만 nan 값 존재| 해당 행들의 category_code 중 최다 빈도로 나온 brand로 대입 |\n",
    "|3|둘 다 nan 값 존재     | 둘 다 etc로 대입 |\n",
    "|4|category_code만 nan 값이지만 해당 brand에 해당하는 모든 category_code의 값들이 nan값   |   해당 brand 값 그대로 대입 |"
   ]
  },
  {
   "cell_type": "code",
   "execution_count": 32,
   "id": "5b13a48f",
   "metadata": {
    "scrolled": true
   },
   "outputs": [],
   "source": [
    "# TR : True & False\n",
    "\n",
    "df_top10['TF_category_code'] = df_top10['category_code'].isnull()\n",
    "df_top10['TF_brand'] = df_top10['brand'].isnull()"
   ]
  },
  {
   "cell_type": "code",
   "execution_count": 7,
   "id": "8b507255",
   "metadata": {},
   "outputs": [],
   "source": [
    "lst_nan = df_top10.query('TF_category_code == True').query('TF_brand == True').index.to_list()\n",
    "lst_category_nan = df_top10.query('TF_category_code == True').query('TF_brand == False').index.to_list()\n",
    "lst_brand_nan = df_top10.query('TF_category_code == False').query('TF_brand == True').index.to_list()"
   ]
  },
  {
   "cell_type": "code",
   "execution_count": 76,
   "id": "3840f0a9",
   "metadata": {},
   "outputs": [
    {
     "data": {
      "text/html": [
       "<div>\n",
       "<style scoped>\n",
       "    .dataframe tbody tr th:only-of-type {\n",
       "        vertical-align: middle;\n",
       "    }\n",
       "\n",
       "    .dataframe tbody tr th {\n",
       "        vertical-align: top;\n",
       "    }\n",
       "\n",
       "    .dataframe thead th {\n",
       "        text-align: right;\n",
       "    }\n",
       "</style>\n",
       "<table border=\"1\" class=\"dataframe\">\n",
       "  <thead>\n",
       "    <tr style=\"text-align: right;\">\n",
       "      <th></th>\n",
       "      <th>event_time</th>\n",
       "      <th>event_type</th>\n",
       "      <th>product_id</th>\n",
       "      <th>category_id</th>\n",
       "      <th>category_code</th>\n",
       "      <th>brand</th>\n",
       "      <th>price</th>\n",
       "      <th>user_id</th>\n",
       "      <th>user_session</th>\n",
       "      <th>category_code_1</th>\n",
       "      <th>category_code_2</th>\n",
       "      <th>category_code_3</th>\n",
       "      <th>category_code_4</th>\n",
       "      <th>user_session_c</th>\n",
       "      <th>user_top10</th>\n",
       "      <th>weekday</th>\n",
       "      <th>separate_time</th>\n",
       "      <th>time</th>\n",
       "    </tr>\n",
       "  </thead>\n",
       "  <tbody>\n",
       "    <tr>\n",
       "      <th>0</th>\n",
       "      <td>2019-11-01 00:00:19</td>\n",
       "      <td>view</td>\n",
       "      <td>26100002</td>\n",
       "      <td>2053013553887052089</td>\n",
       "      <td>sulu</td>\n",
       "      <td>sulu</td>\n",
       "      <td>51.48</td>\n",
       "      <td>520956879</td>\n",
       "      <td>88e782d0-cb8f-4b25-b09c-6dd9bce06832</td>\n",
       "      <td>NaN</td>\n",
       "      <td>NaN</td>\n",
       "      <td>NaN</td>\n",
       "      <td>NaN</td>\n",
       "      <td>3</td>\n",
       "      <td>1</td>\n",
       "      <td>Friday</td>\n",
       "      <td>0</td>\n",
       "      <td>0~3</td>\n",
       "    </tr>\n",
       "    <tr>\n",
       "      <th>1</th>\n",
       "      <td>2019-11-01 00:01:46</td>\n",
       "      <td>view</td>\n",
       "      <td>39700019</td>\n",
       "      <td>2084962304016777941</td>\n",
       "      <td>apparel.costume</td>\n",
       "      <td>nike</td>\n",
       "      <td>136.43</td>\n",
       "      <td>516426931</td>\n",
       "      <td>b36a7084-888d-4e37-bad4-cec9cfb1fbce</td>\n",
       "      <td>apparel</td>\n",
       "      <td>NaN</td>\n",
       "      <td>costume</td>\n",
       "      <td>NaN</td>\n",
       "      <td>4</td>\n",
       "      <td>1</td>\n",
       "      <td>Friday</td>\n",
       "      <td>0</td>\n",
       "      <td>0~3</td>\n",
       "    </tr>\n",
       "    <tr>\n",
       "      <th>2</th>\n",
       "      <td>2019-11-01 00:02:02</td>\n",
       "      <td>view</td>\n",
       "      <td>1004873</td>\n",
       "      <td>2053013555631882655</td>\n",
       "      <td>electronics.smartphone</td>\n",
       "      <td>samsung</td>\n",
       "      <td>362.29</td>\n",
       "      <td>524356542</td>\n",
       "      <td>2f44a6ff-59aa-458c-acef-aee764d2ce10</td>\n",
       "      <td>electronics</td>\n",
       "      <td>NaN</td>\n",
       "      <td>smartphone</td>\n",
       "      <td>NaN</td>\n",
       "      <td>24</td>\n",
       "      <td>1</td>\n",
       "      <td>Friday</td>\n",
       "      <td>0</td>\n",
       "      <td>0~3</td>\n",
       "    </tr>\n",
       "    <tr>\n",
       "      <th>3</th>\n",
       "      <td>2019-11-01 00:02:36</td>\n",
       "      <td>view</td>\n",
       "      <td>5100816</td>\n",
       "      <td>2053013553375346967</td>\n",
       "      <td>electronics.smartphone</td>\n",
       "      <td>xiaomi</td>\n",
       "      <td>29.58</td>\n",
       "      <td>524356542</td>\n",
       "      <td>2f44a6ff-59aa-458c-acef-aee764d2ce10</td>\n",
       "      <td>NaN</td>\n",
       "      <td>NaN</td>\n",
       "      <td>NaN</td>\n",
       "      <td>NaN</td>\n",
       "      <td>24</td>\n",
       "      <td>1</td>\n",
       "      <td>Friday</td>\n",
       "      <td>0</td>\n",
       "      <td>0~3</td>\n",
       "    </tr>\n",
       "    <tr>\n",
       "      <th>4</th>\n",
       "      <td>2019-11-01 00:02:56</td>\n",
       "      <td>view</td>\n",
       "      <td>1005135</td>\n",
       "      <td>2053013555631882655</td>\n",
       "      <td>electronics.smartphone</td>\n",
       "      <td>apple</td>\n",
       "      <td>1665.36</td>\n",
       "      <td>562210838</td>\n",
       "      <td>a58d94c8-c0d4-4f24-bf3c-04c4e69ea153</td>\n",
       "      <td>electronics</td>\n",
       "      <td>NaN</td>\n",
       "      <td>smartphone</td>\n",
       "      <td>NaN</td>\n",
       "      <td>13</td>\n",
       "      <td>1</td>\n",
       "      <td>Friday</td>\n",
       "      <td>0</td>\n",
       "      <td>0~3</td>\n",
       "    </tr>\n",
       "  </tbody>\n",
       "</table>\n",
       "</div>"
      ],
      "text/plain": [
       "            event_time event_type  product_id          category_id  \\\n",
       "0  2019-11-01 00:00:19       view    26100002  2053013553887052089   \n",
       "1  2019-11-01 00:01:46       view    39700019  2084962304016777941   \n",
       "2  2019-11-01 00:02:02       view     1004873  2053013555631882655   \n",
       "3  2019-11-01 00:02:36       view     5100816  2053013553375346967   \n",
       "4  2019-11-01 00:02:56       view     1005135  2053013555631882655   \n",
       "\n",
       "            category_code    brand    price    user_id  \\\n",
       "0                    sulu     sulu    51.48  520956879   \n",
       "1         apparel.costume     nike   136.43  516426931   \n",
       "2  electronics.smartphone  samsung   362.29  524356542   \n",
       "3  electronics.smartphone   xiaomi    29.58  524356542   \n",
       "4  electronics.smartphone    apple  1665.36  562210838   \n",
       "\n",
       "                           user_session category_code_1 category_code_2  \\\n",
       "0  88e782d0-cb8f-4b25-b09c-6dd9bce06832             NaN             NaN   \n",
       "1  b36a7084-888d-4e37-bad4-cec9cfb1fbce         apparel             NaN   \n",
       "2  2f44a6ff-59aa-458c-acef-aee764d2ce10     electronics             NaN   \n",
       "3  2f44a6ff-59aa-458c-acef-aee764d2ce10             NaN             NaN   \n",
       "4  a58d94c8-c0d4-4f24-bf3c-04c4e69ea153     electronics             NaN   \n",
       "\n",
       "  category_code_3 category_code_4  user_session_c  user_top10 weekday  \\\n",
       "0             NaN             NaN               3           1  Friday   \n",
       "1         costume             NaN               4           1  Friday   \n",
       "2      smartphone             NaN              24           1  Friday   \n",
       "3             NaN             NaN              24           1  Friday   \n",
       "4      smartphone             NaN              13           1  Friday   \n",
       "\n",
       "   separate_time time  \n",
       "0              0  0~3  \n",
       "1              0  0~3  \n",
       "2              0  0~3  \n",
       "3              0  0~3  \n",
       "4              0  0~3  "
      ]
     },
     "execution_count": 76,
     "metadata": {},
     "output_type": "execute_result"
    }
   ],
   "source": [
    "df_top10.head()"
   ]
  },
  {
   "cell_type": "code",
   "execution_count": 5,
   "id": "ada406a3",
   "metadata": {},
   "outputs": [
    {
     "name": "stderr",
     "output_type": "stream",
     "text": [
      "100%|██████████| 211194/211194 [51:00<00:00, 69.00it/s] \n"
     ]
    }
   ],
   "source": [
    "for idx in tqdm(lst_nan):\n",
    "    df_top10['category_code'][idx] = 'etc'\n",
    "    df_top10['brand'][idx] = 'etc'\n"
   ]
  },
  {
   "cell_type": "code",
   "execution_count": 6,
   "id": "51831b68",
   "metadata": {},
   "outputs": [
    {
     "name": "stderr",
     "output_type": "stream",
     "text": [
      "100%|██████████| 105588/105588 [1:37:12<00:00, 18.10it/s] \n"
     ]
    }
   ],
   "source": [
    "\n",
    "for idx in tqdm(lst_brand_nan):\n",
    "    try:\n",
    "        df_top10['brand'][idx] = df_top10.query('category_code == \"{}\"'.format(df_top10['category_code'][idx]))['brand'].value_counts().index[0]\n",
    "    except:\n",
    "        print(idx)"
   ]
  },
  {
   "cell_type": "code",
   "execution_count": 8,
   "id": "1f53f169",
   "metadata": {},
   "outputs": [],
   "source": [
    "df_top10['event_time'] = df_top10['event_time'].apply(lambda x:x[:19])"
   ]
  },
  {
   "cell_type": "code",
   "execution_count": 9,
   "id": "671a95d0",
   "metadata": {},
   "outputs": [],
   "source": [
    "df_top10['weekday'] =0"
   ]
  },
  {
   "cell_type": "code",
   "execution_count": 10,
   "id": "66bc440a",
   "metadata": {},
   "outputs": [],
   "source": [
    "df_top10['weekday'] = df_top10['event_time'].apply(lambda x: datetime.strptime(x, '%Y-%m-%d %H:%M:%S').strftime(\"%A\"))"
   ]
  },
  {
   "cell_type": "code",
   "execution_count": 11,
   "id": "51c5833d",
   "metadata": {},
   "outputs": [
    {
     "data": {
      "text/plain": [
       "0            Friday\n",
       "1            Friday\n",
       "2            Friday\n",
       "3            Friday\n",
       "4            Friday\n",
       "             ...   \n",
       "3146908    Thursday\n",
       "3146909    Thursday\n",
       "3146910    Thursday\n",
       "3146911    Thursday\n",
       "3146912    Thursday\n",
       "Name: weekday, Length: 3146913, dtype: object"
      ]
     },
     "execution_count": 11,
     "metadata": {},
     "output_type": "execute_result"
    }
   ],
   "source": [
    "df_top10['weekday']"
   ]
  },
  {
   "cell_type": "code",
   "execution_count": 12,
   "id": "9eb597ba",
   "metadata": {},
   "outputs": [],
   "source": [
    "df_top10['separate_time'] = 0"
   ]
  },
  {
   "cell_type": "code",
   "execution_count": 13,
   "id": "a70e95b4",
   "metadata": {},
   "outputs": [],
   "source": [
    "df_top10['time'] = ''"
   ]
  },
  {
   "cell_type": "code",
   "execution_count": 14,
   "id": "689fd1ae",
   "metadata": {},
   "outputs": [
    {
     "name": "stderr",
     "output_type": "stream",
     "text": [
      "100%|██████████| 3146913/3146913 [04:21<00:00, 12015.07it/s]\n"
     ]
    }
   ],
   "source": [
    "for idx in tqdm(range(len(df_top10))):\n",
    "    t = int(df_top10['event_time'][idx][11:13])\n",
    "    if t < 3:\n",
    "        df_top10['time'][idx] = '0~3'\n",
    "    elif t >= 3 and t < 6:\n",
    "        df_top10['time'][idx] = '3~6'\n",
    "    elif t >= 6 and t < 9:\n",
    "        df_top10['time'][idx] = '6~9'\n",
    "    elif t >= 9 and t < 12:\n",
    "        df_top10['time'][idx] = '9~12'\n",
    "    elif t >= 12 and t < 15:\n",
    "        df_top10['time'][idx] = '12~15'\n",
    "    elif t >= 15 and t < 18:\n",
    "        df_top10['time'][idx] = '15~18'\n",
    "    elif t >= 18 and t < 21:\n",
    "        df_top10['time'][idx] = '18~21'\n",
    "    elif t >= 21 and t < 24:\n",
    "        df_top10['time'][idx] = '21~24'"
   ]
  },
  {
   "cell_type": "markdown",
   "id": "b144dd10",
   "metadata": {},
   "source": [
    "## event_type 구별\n",
    "\n",
    "- 1. view\n",
    "- 2. cart\n",
    "- 3. purchase"
   ]
  },
  {
   "cell_type": "code",
   "execution_count": 16,
   "id": "50d53fd6",
   "metadata": {},
   "outputs": [],
   "source": [
    "df_top10['user_id'] = df_top10['user_id'].apply(lambda x: str(x))"
   ]
  },
  {
   "cell_type": "code",
   "execution_count": 17,
   "id": "59c55137",
   "metadata": {},
   "outputs": [],
   "source": [
    "df_pur = df_top10.query('event_type == \"purchase\"')\n",
    "df_view = df_top10.query('event_type == \"view\"')\n",
    "df_cart = df_top10.query('event_type == \"cart\"')"
   ]
  },
  {
   "cell_type": "code",
   "execution_count": 18,
   "id": "c362d5ac",
   "metadata": {},
   "outputs": [
    {
     "data": {
      "text/plain": [
       "((256691, 22), (434693, 22), (2455529, 22))"
      ]
     },
     "execution_count": 18,
     "metadata": {},
     "output_type": "execute_result"
    }
   ],
   "source": [
    "df_pur.shape,df_cart.shape,df_view.shape"
   ]
  },
  {
   "cell_type": "code",
   "execution_count": 19,
   "id": "4fb04e2c",
   "metadata": {},
   "outputs": [],
   "source": [
    "df_pur = df_pur.reset_index()\n",
    "df_view = df_view.reset_index()\n",
    "df_cart = df_cart.reset_index()\n",
    "\n",
    "del df_pur['index']\n",
    "del df_view['index']\n",
    "del df_cart['index']"
   ]
  },
  {
   "cell_type": "code",
   "execution_count": 20,
   "id": "aabf0b8f",
   "metadata": {},
   "outputs": [],
   "source": [
    "lst_p_user_id = df_pur['user_id'].value_counts().index.to_list()\n",
    "lst_v_user_id = df_view['user_id'].value_counts().index.to_list()\n",
    "lst_c_user_id = df_cart['user_id'].value_counts().index.to_list()"
   ]
  },
  {
   "cell_type": "code",
   "execution_count": 21,
   "id": "3a98e7c7",
   "metadata": {},
   "outputs": [],
   "source": [
    "dic_p_by_user_id = {}\n",
    "dic_v_by_user_id = {}\n",
    "dic_c_by_user_id = {}"
   ]
  },
  {
   "cell_type": "code",
   "execution_count": 22,
   "id": "6917e0b8",
   "metadata": {},
   "outputs": [],
   "source": [
    "for idx in lst_p_user_id:\n",
    "    dic_p_by_user_id[f'{idx}'] = 0\n",
    "for idx in lst_v_user_id:\n",
    "    dic_v_by_user_id[f'{idx}'] = 0\n",
    "for idx in lst_c_user_id:\n",
    "    dic_c_by_user_id[f'{idx}'] = 0"
   ]
  },
  {
   "cell_type": "code",
   "execution_count": 23,
   "id": "37c94963",
   "metadata": {},
   "outputs": [
    {
     "name": "stderr",
     "output_type": "stream",
     "text": [
      "100%|██████████| 256691/256691 [00:01<00:00, 202336.21it/s]\n",
      "100%|██████████| 2455529/2455529 [00:11<00:00, 214872.96it/s]\n",
      "100%|██████████| 434693/434693 [00:02<00:00, 209159.67it/s]\n"
     ]
    }
   ],
   "source": [
    "for idx in tqdm(range(len(df_pur))):\n",
    "    dic_p_by_user_id['{}'.format(df_pur['user_id'][idx])] += df_pur['price'][idx]\n",
    "    \n",
    "for idx in tqdm(range(len(df_view))):\n",
    "    dic_v_by_user_id['{}'.format(df_view['user_id'][idx])] += df_view['price'][idx]\n",
    "    \n",
    "for idx in tqdm(range(len(df_cart))):\n",
    "    dic_c_by_user_id['{}'.format(df_cart['user_id'][idx])] += df_cart['price'][idx]"
   ]
  },
  {
   "cell_type": "code",
   "execution_count": 24,
   "id": "2d55c37e",
   "metadata": {},
   "outputs": [],
   "source": [
    "# df_user_total_price\n",
    "df_user_total_price = pd.DataFrame()"
   ]
  },
  {
   "cell_type": "code",
   "execution_count": 25,
   "id": "e3f27883",
   "metadata": {},
   "outputs": [],
   "source": [
    "df_user_total_price['user_id'] = dic_p_by_user_id.keys()\n",
    "df_user_total_price['total_price'] = dic_p_by_user_id.values()"
   ]
  },
  {
   "cell_type": "code",
   "execution_count": 26,
   "id": "23847055",
   "metadata": {},
   "outputs": [],
   "source": [
    "df_user_total_price = df_user_total_price.sort_values(by='total_price',ascending=False)"
   ]
  },
  {
   "cell_type": "code",
   "execution_count": 27,
   "id": "05dad4d1",
   "metadata": {},
   "outputs": [
    {
     "data": {
      "text/html": [
       "<div>\n",
       "<style scoped>\n",
       "    .dataframe tbody tr th:only-of-type {\n",
       "        vertical-align: middle;\n",
       "    }\n",
       "\n",
       "    .dataframe tbody tr th {\n",
       "        vertical-align: top;\n",
       "    }\n",
       "\n",
       "    .dataframe thead th {\n",
       "        text-align: right;\n",
       "    }\n",
       "</style>\n",
       "<table border=\"1\" class=\"dataframe\">\n",
       "  <thead>\n",
       "    <tr style=\"text-align: right;\">\n",
       "      <th></th>\n",
       "      <th>user_id</th>\n",
       "      <th>total_price</th>\n",
       "    </tr>\n",
       "  </thead>\n",
       "  <tbody>\n",
       "    <tr>\n",
       "      <th>2</th>\n",
       "      <td>518514099</td>\n",
       "      <td>203567.53</td>\n",
       "    </tr>\n",
       "    <tr>\n",
       "      <th>1</th>\n",
       "      <td>512386086</td>\n",
       "      <td>138329.07</td>\n",
       "    </tr>\n",
       "    <tr>\n",
       "      <th>0</th>\n",
       "      <td>564068124</td>\n",
       "      <td>128594.36</td>\n",
       "    </tr>\n",
       "    <tr>\n",
       "      <th>65</th>\n",
       "      <td>515715331</td>\n",
       "      <td>115488.34</td>\n",
       "    </tr>\n",
       "    <tr>\n",
       "      <th>28</th>\n",
       "      <td>521230795</td>\n",
       "      <td>96336.84</td>\n",
       "    </tr>\n",
       "  </tbody>\n",
       "</table>\n",
       "</div>"
      ],
      "text/plain": [
       "      user_id  total_price\n",
       "2   518514099    203567.53\n",
       "1   512386086    138329.07\n",
       "0   564068124    128594.36\n",
       "65  515715331    115488.34\n",
       "28  521230795     96336.84"
      ]
     },
     "execution_count": 27,
     "metadata": {},
     "output_type": "execute_result"
    }
   ],
   "source": [
    "df_user_total_price.head()"
   ]
  },
  {
   "cell_type": "code",
   "execution_count": 28,
   "id": "87a1b4cb",
   "metadata": {},
   "outputs": [
    {
     "data": {
      "text/plain": [
       "42560"
      ]
     },
     "execution_count": 28,
     "metadata": {},
     "output_type": "execute_result"
    }
   ],
   "source": [
    "# 상위 10% 상품 제품 누적 금액 유저 수 : 44039\n",
    "\n",
    "df_user_total_price['user_id'].nunique()"
   ]
  },
  {
   "cell_type": "code",
   "execution_count": 29,
   "id": "0da5ccc5",
   "metadata": {},
   "outputs": [],
   "source": [
    "# 10그룹 나누기 위한 숫자\n",
    "\n",
    "n = int(len(df_user_total_price)*0.1)"
   ]
  },
  {
   "cell_type": "code",
   "execution_count": 30,
   "id": "d94bc21c",
   "metadata": {},
   "outputs": [
    {
     "name": "stderr",
     "output_type": "stream",
     "text": [
      "100%|██████████| 4256/4256 [00:00<00:00, 282250.89it/s]\n"
     ]
    }
   ],
   "source": [
    "dic_group = {}\n",
    "for ind in tqdm(range(n*9,len(df_user_total_price))):\n",
    "    dic_group['{}'.format(df_user_total_price['user_id'][ind])] = 10"
   ]
  },
  {
   "cell_type": "code",
   "execution_count": 31,
   "id": "caad04b8",
   "metadata": {},
   "outputs": [],
   "source": [
    "df_pur['group'] = 0"
   ]
  },
  {
   "cell_type": "code",
   "execution_count": 32,
   "id": "361cf4fb",
   "metadata": {},
   "outputs": [
    {
     "data": {
      "text/plain": [
       "0    256691\n",
       "Name: group, dtype: int64"
      ]
     },
     "execution_count": 32,
     "metadata": {},
     "output_type": "execute_result"
    }
   ],
   "source": [
    "df_pur['group'].value_counts()"
   ]
  },
  {
   "cell_type": "markdown",
   "id": "fb22186b",
   "metadata": {},
   "source": [
    "## per user_id dataframe"
   ]
  },
  {
   "cell_type": "code",
   "execution_count": 55,
   "id": "8421e7df",
   "metadata": {},
   "outputs": [],
   "source": [
    "df_user_id = pd.DataFrame()"
   ]
  },
  {
   "cell_type": "code",
   "execution_count": 56,
   "id": "1e97b89c",
   "metadata": {},
   "outputs": [],
   "source": [
    "df_user_id['user_id'] = 0\n",
    "df_user_id['view'] = 0\n",
    "df_user_id['cart'] = 0\n",
    "df_user_id['c_pur'] = 0 # purchase count\n",
    "df_user_id['t_pur'] = 0 # purchase total amount\n",
    "df_user_id['user_session_unique'] = 0 # per user session count\n",
    "df_user_id['number_behavior'] = 0 # unique user_session count\n",
    "df_user_id['v_brand'] = 0 # brand view\n",
    "df_user_id['c_brand'] = 0 # brand cart \n",
    "df_user_id['p_brand'] = 0 # brand purchase \n",
    "df_user_id['weekday_max'] = 0\n",
    "df_user_id['time_max'] = 0\n",
    "df_user_id['view_price_avg'] = 0 \n",
    "df_user_id['cart_price_avg'] = 0 \n",
    "df_user_id['pur_price_avg'] = 0 \n",
    "df_user_id['product_id_unique'] = 0 \n",
    "df_user_id['pur_price_max'] = 0\n",
    "df_user_id['pur_price_min'] = 0\n",
    "df_user_id['c_category_code'] = 0\n",
    "df_user_id['category_code_max'] = 0 \n",
    "df_user_id['category_code_min'] = 0 \n",
    "df_user_id['CV'] = 0  # view / cart\n",
    "df_user_id['PC'] = 0  # purchase / cart\n",
    "df_user_id['PV'] = 0  # purchase / view\n",
    "df_user_id['VS'] = 0\n",
    "df_user_id['CS'] = 0\n",
    "df_user_id['PS'] = 0"
   ]
  },
  {
   "cell_type": "code",
   "execution_count": 57,
   "id": "62468121",
   "metadata": {},
   "outputs": [
    {
     "data": {
      "text/plain": [
       "(0, 27)"
      ]
     },
     "execution_count": 57,
     "metadata": {},
     "output_type": "execute_result"
    }
   ],
   "source": [
    "df_user_id.shape"
   ]
  },
  {
   "cell_type": "code",
   "execution_count": 77,
   "id": "94f8a798",
   "metadata": {},
   "outputs": [
    {
     "name": "stderr",
     "output_type": "stream",
     "text": [
      "43223it [37:08, 19.40it/s]\n"
     ]
    }
   ],
   "source": [
    "lst_nan = {}\n",
    "for idx, user in tqdm(enumerate(df_top10['user_id'].unique().tolist())):\n",
    "    try:\n",
    "        df_user_id.loc[idx] = [0 for _ in range(27)]\n",
    "        df_user_id['user_id'][idx] = user\n",
    "        a = df_top10.query(f'user_id == \"{user}\"')\n",
    "        df_user_id['view'][idx] = len(a.query('event_type == \"view\"'))\n",
    "        df_user_id['cart'][idx] = len(a.query('event_type == \"cart\"'))\n",
    "        df_user_id['c_pur'][idx] = len(a.query('event_type == \"purchase\"'))\n",
    "        df_user_id['t_pur'][idx] = sum(a.query('event_type == \"purchase\"')['price'])\n",
    "        df_user_id['number_behavior'][idx] = len(a)\n",
    "        df_user_id['user_session_unique'][idx] = a['user_session'].nunique()\n",
    "        df_user_id['v_brand'][idx] = a.query('event_type == \"view\"')['brand'].nunique()\n",
    "        df_user_id['c_brand'][idx] = a.query('event_type == \"cart\"')['brand'].nunique()\n",
    "        df_user_id['p_brand'][idx] = a.query('event_type == \"purchase\"')['brand'].nunique()\n",
    "        df_user_id['weekday_max'][idx] = a['weekday'].value_counts().index[0]\n",
    "        df_user_id['time_max'][idx] = a['time'].value_counts().index[0]\n",
    "        df_user_id['view_price_avg'][idx] =  a.query('event_type == \"view\"')['price'].mean()\n",
    "        df_user_id['cart_price_avg'][idx] =  a.query('event_type == \"cart\"')['price'].mean()\n",
    "        df_user_id['pur_price_avg'][idx] =  a.query('event_type == \"purchase\"')['price'].mean()\n",
    "        df_user_id['product_id_unique'][idx] =  a['product_id'].nunique()\n",
    "        df_user_id['pur_price_max'][idx] = max(a.query('event_type == \"purchase\"')['price'])\n",
    "        df_user_id['pur_price_min'][idx] = min(a.query('event_type == \"purchase\"')['price'])\n",
    "        df_user_id['CV'][idx] = (df_user_id['cart'][idx]/df_user_id['view'][idx])*100\n",
    "        df_user_id['PV'][idx] = (df_user_id['c_pur'][idx]/df_user_id['view'][idx])*100\n",
    "        df_user_id['VS'][idx] = len(a.query('event_type == \"view\"'))/a['user_session'].nunique()\n",
    "        df_user_id['CS'][idx] = len(a.query('event_type == \"cart\"'))/a['user_session'].nunique()\n",
    "        df_user_id['PS'][idx] = len(a.query('event_type == \"purchase\"'))/a['user_session'].nunique()\n",
    "        try:\n",
    "            df_user_id['category_code_max'][idx] =  a['category_code'].value_counts().index[0]\n",
    "            df_user_id['category_code_min'][idx] =  a['category_code'].value_counts().index[-1]\n",
    "            df_user_id['PC'][idx] = (df_user_id['c_purchase'][idx]/df_user_id['cart'][idx])*100\n",
    "            df_user_id['c_category_code'][idx] = a['category_code_1'].nunique()\n",
    "        except:\n",
    "            df_user_id['category_code_max'][idx] =  'nan'\n",
    "            df_user_id['category_code_min'][idx] =  'nan'\n",
    "            df_user_id['PC'][idx] = 0\n",
    "            df_user_id['c_category_code'][idx] = 0\n",
    "    except:\n",
    "        lst_nan['{}'.format(user)] = idx"
   ]
  },
  {
   "cell_type": "code",
   "execution_count": 79,
   "id": "c77a4c15",
   "metadata": {},
   "outputs": [
    {
     "data": {
      "text/plain": [
       "663"
      ]
     },
     "execution_count": 79,
     "metadata": {},
     "output_type": "execute_result"
    }
   ],
   "source": [
    "len(lst_nan)"
   ]
  },
  {
   "cell_type": "code",
   "execution_count": 75,
   "id": "4d9c340e",
   "metadata": {},
   "outputs": [
    {
     "data": {
      "text/plain": [
       "(3146913, 18)"
      ]
     },
     "execution_count": 75,
     "metadata": {},
     "output_type": "execute_result"
    }
   ],
   "source": [
    "df_top10.shape"
   ]
  }
 ],
 "metadata": {
  "kernelspec": {
   "display_name": "Python 3",
   "language": "python",
   "name": "python3"
  },
  "language_info": {
   "codemirror_mode": {
    "name": "ipython",
    "version": 3
   },
   "file_extension": ".py",
   "mimetype": "text/x-python",
   "name": "python",
   "nbconvert_exporter": "python",
   "pygments_lexer": "ipython3",
   "version": "3.10.8 (main, Oct 21 2022, 22:22:30) [Clang 14.0.0 (clang-1400.0.29.202)]"
  },
  "vscode": {
   "interpreter": {
    "hash": "b0fa6594d8f4cbf19f97940f81e996739fb7646882a419484c72d19e05852a7e"
   }
  }
 },
 "nbformat": 4,
 "nbformat_minor": 5
}
