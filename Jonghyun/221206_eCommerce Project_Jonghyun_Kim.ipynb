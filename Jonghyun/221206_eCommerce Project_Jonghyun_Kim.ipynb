{
 "cells": [
  {
   "cell_type": "code",
   "execution_count": 1,
   "id": "709fccc6-9cd4-4755-8a51-0588a84c6f0a",
   "metadata": {},
   "outputs": [],
   "source": [
    "import pandas as pd\n",
    "from tqdm import tqdm\n",
    "import os\n",
    "import numpy as np\n",
    "import seaborn as sns\n",
    "import matplotlib.pyplot as plt\n",
    "import seaborn as sns"
   ]
  },
  {
   "cell_type": "code",
   "execution_count": 180,
   "id": "8f909872-62cf-4b57-8907-5b7bc7992df8",
   "metadata": {
    "collapsed": true,
    "jupyter": {
     "outputs_hidden": true
    },
    "tags": []
   },
   "outputs": [
    {
     "name": "stderr",
     "output_type": "stream",
     "text": [
      "C:\\Users\\SBAUser\\AppData\\Local\\Temp\\ipykernel_6132\\4097409698.py:1: DtypeWarning: Columns (14) have mixed types. Specify dtype option on import or set low_memory=False.\n",
      "  df_top10 = pd.read_csv('../data/top_10_EB_data.csv', index_col=0)\n"
     ]
    },
    {
     "data": {
      "text/html": [
       "<div>\n",
       "<style scoped>\n",
       "    .dataframe tbody tr th:only-of-type {\n",
       "        vertical-align: middle;\n",
       "    }\n",
       "\n",
       "    .dataframe tbody tr th {\n",
       "        vertical-align: top;\n",
       "    }\n",
       "\n",
       "    .dataframe thead th {\n",
       "        text-align: right;\n",
       "    }\n",
       "</style>\n",
       "<table border=\"1\" class=\"dataframe\">\n",
       "  <thead>\n",
       "    <tr style=\"text-align: right;\">\n",
       "      <th></th>\n",
       "      <th>event_time</th>\n",
       "      <th>event_type</th>\n",
       "      <th>product_id</th>\n",
       "      <th>category_id</th>\n",
       "      <th>category_code</th>\n",
       "      <th>brand</th>\n",
       "      <th>price</th>\n",
       "      <th>user_id</th>\n",
       "      <th>user_session</th>\n",
       "      <th>user_session_c</th>\n",
       "      <th>category_code_1</th>\n",
       "      <th>category_code_2</th>\n",
       "      <th>category_code_3</th>\n",
       "      <th>category_code_4</th>\n",
       "      <th>user_top_10</th>\n",
       "    </tr>\n",
       "  </thead>\n",
       "  <tbody>\n",
       "    <tr>\n",
       "      <th>49</th>\n",
       "      <td>2019-11-01 00:00:19 UTC</td>\n",
       "      <td>view</td>\n",
       "      <td>26100002</td>\n",
       "      <td>2053013553887052089</td>\n",
       "      <td>NaN</td>\n",
       "      <td>sulu</td>\n",
       "      <td>51.48</td>\n",
       "      <td>520956879</td>\n",
       "      <td>88e782d0-cb8f-4b25-b09c-6dd9bce06832</td>\n",
       "      <td>3</td>\n",
       "      <td>NaN</td>\n",
       "      <td>NaN</td>\n",
       "      <td>NaN</td>\n",
       "      <td>NaN</td>\n",
       "      <td>1</td>\n",
       "    </tr>\n",
       "    <tr>\n",
       "      <th>224</th>\n",
       "      <td>2019-11-01 00:01:46 UTC</td>\n",
       "      <td>view</td>\n",
       "      <td>39700019</td>\n",
       "      <td>2084962304016777941</td>\n",
       "      <td>apparel.costume</td>\n",
       "      <td>NaN</td>\n",
       "      <td>136.43</td>\n",
       "      <td>516426931</td>\n",
       "      <td>b36a7084-888d-4e37-bad4-cec9cfb1fbce</td>\n",
       "      <td>4</td>\n",
       "      <td>apparel</td>\n",
       "      <td>NaN</td>\n",
       "      <td>costume</td>\n",
       "      <td>NaN</td>\n",
       "      <td>1</td>\n",
       "    </tr>\n",
       "    <tr>\n",
       "      <th>253</th>\n",
       "      <td>2019-11-01 00:02:02 UTC</td>\n",
       "      <td>view</td>\n",
       "      <td>1004873</td>\n",
       "      <td>2053013555631882655</td>\n",
       "      <td>electronics.smartphone</td>\n",
       "      <td>samsung</td>\n",
       "      <td>362.29</td>\n",
       "      <td>524356542</td>\n",
       "      <td>2f44a6ff-59aa-458c-acef-aee764d2ce10</td>\n",
       "      <td>24</td>\n",
       "      <td>electronics</td>\n",
       "      <td>NaN</td>\n",
       "      <td>smartphone</td>\n",
       "      <td>NaN</td>\n",
       "      <td>1</td>\n",
       "    </tr>\n",
       "    <tr>\n",
       "      <th>338</th>\n",
       "      <td>2019-11-01 00:02:36 UTC</td>\n",
       "      <td>view</td>\n",
       "      <td>5100816</td>\n",
       "      <td>2053013553375346967</td>\n",
       "      <td>NaN</td>\n",
       "      <td>xiaomi</td>\n",
       "      <td>29.58</td>\n",
       "      <td>524356542</td>\n",
       "      <td>2f44a6ff-59aa-458c-acef-aee764d2ce10</td>\n",
       "      <td>24</td>\n",
       "      <td>NaN</td>\n",
       "      <td>NaN</td>\n",
       "      <td>NaN</td>\n",
       "      <td>NaN</td>\n",
       "      <td>1</td>\n",
       "    </tr>\n",
       "    <tr>\n",
       "      <th>384</th>\n",
       "      <td>2019-11-01 00:02:56 UTC</td>\n",
       "      <td>view</td>\n",
       "      <td>1005135</td>\n",
       "      <td>2053013555631882655</td>\n",
       "      <td>electronics.smartphone</td>\n",
       "      <td>apple</td>\n",
       "      <td>1665.36</td>\n",
       "      <td>562210838</td>\n",
       "      <td>a58d94c8-c0d4-4f24-bf3c-04c4e69ea153</td>\n",
       "      <td>13</td>\n",
       "      <td>electronics</td>\n",
       "      <td>NaN</td>\n",
       "      <td>smartphone</td>\n",
       "      <td>NaN</td>\n",
       "      <td>1</td>\n",
       "    </tr>\n",
       "    <tr>\n",
       "      <th>...</th>\n",
       "      <td>...</td>\n",
       "      <td>...</td>\n",
       "      <td>...</td>\n",
       "      <td>...</td>\n",
       "      <td>...</td>\n",
       "      <td>...</td>\n",
       "      <td>...</td>\n",
       "      <td>...</td>\n",
       "      <td>...</td>\n",
       "      <td>...</td>\n",
       "      <td>...</td>\n",
       "      <td>...</td>\n",
       "      <td>...</td>\n",
       "      <td>...</td>\n",
       "      <td>...</td>\n",
       "    </tr>\n",
       "    <tr>\n",
       "      <th>62500962</th>\n",
       "      <td>2019-11-30 23:59:41 UTC</td>\n",
       "      <td>view</td>\n",
       "      <td>3701309</td>\n",
       "      <td>2053013565983425517</td>\n",
       "      <td>appliances.environment.vacuum</td>\n",
       "      <td>polaris</td>\n",
       "      <td>89.32</td>\n",
       "      <td>543733099</td>\n",
       "      <td>a65116f4-ac53-4a41-ad68-6606788e674c</td>\n",
       "      <td>33</td>\n",
       "      <td>appliances</td>\n",
       "      <td>environment</td>\n",
       "      <td>vacuum</td>\n",
       "      <td>NaN</td>\n",
       "      <td>1</td>\n",
       "    </tr>\n",
       "    <tr>\n",
       "      <th>62500971</th>\n",
       "      <td>2019-11-30 23:59:43 UTC</td>\n",
       "      <td>view</td>\n",
       "      <td>1004836</td>\n",
       "      <td>2053013555631882655</td>\n",
       "      <td>electronics.smartphone</td>\n",
       "      <td>samsung</td>\n",
       "      <td>229.59</td>\n",
       "      <td>517876634</td>\n",
       "      <td>79428fc0-959b-4a17-8079-e11493c81f48</td>\n",
       "      <td>2</td>\n",
       "      <td>electronics</td>\n",
       "      <td>NaN</td>\n",
       "      <td>smartphone</td>\n",
       "      <td>NaN</td>\n",
       "      <td>1</td>\n",
       "    </tr>\n",
       "    <tr>\n",
       "      <th>62500973</th>\n",
       "      <td>2019-11-30 23:59:44 UTC</td>\n",
       "      <td>cart</td>\n",
       "      <td>3701309</td>\n",
       "      <td>2053013565983425517</td>\n",
       "      <td>appliances.environment.vacuum</td>\n",
       "      <td>polaris</td>\n",
       "      <td>89.32</td>\n",
       "      <td>543733099</td>\n",
       "      <td>a65116f4-ac53-4a41-ad68-6606788e674c</td>\n",
       "      <td>33</td>\n",
       "      <td>appliances</td>\n",
       "      <td>environment</td>\n",
       "      <td>vacuum</td>\n",
       "      <td>NaN</td>\n",
       "      <td>1</td>\n",
       "    </tr>\n",
       "    <tr>\n",
       "      <th>62500974</th>\n",
       "      <td>2019-11-30 23:59:44 UTC</td>\n",
       "      <td>purchase</td>\n",
       "      <td>26205399</td>\n",
       "      <td>2053013563693335403</td>\n",
       "      <td>NaN</td>\n",
       "      <td>NaN</td>\n",
       "      <td>179.16</td>\n",
       "      <td>553345124</td>\n",
       "      <td>58c692ff-c7a9-4e35-9ec4-58598f1940e0</td>\n",
       "      <td>16</td>\n",
       "      <td>NaN</td>\n",
       "      <td>NaN</td>\n",
       "      <td>NaN</td>\n",
       "      <td>NaN</td>\n",
       "      <td>1</td>\n",
       "    </tr>\n",
       "    <tr>\n",
       "      <th>62500985</th>\n",
       "      <td>2019-11-30 23:59:52 UTC</td>\n",
       "      <td>cart</td>\n",
       "      <td>26400248</td>\n",
       "      <td>2053013563651392361</td>\n",
       "      <td>NaN</td>\n",
       "      <td>NaN</td>\n",
       "      <td>132.31</td>\n",
       "      <td>535135317</td>\n",
       "      <td>61792a26-672f-4e61-9832-7b63bb1714db</td>\n",
       "      <td>2</td>\n",
       "      <td>NaN</td>\n",
       "      <td>NaN</td>\n",
       "      <td>NaN</td>\n",
       "      <td>NaN</td>\n",
       "      <td>1</td>\n",
       "    </tr>\n",
       "  </tbody>\n",
       "</table>\n",
       "<p>3383219 rows × 15 columns</p>\n",
       "</div>"
      ],
      "text/plain": [
       "                       event_time event_type  product_id          category_id  \\\n",
       "49        2019-11-01 00:00:19 UTC       view    26100002  2053013553887052089   \n",
       "224       2019-11-01 00:01:46 UTC       view    39700019  2084962304016777941   \n",
       "253       2019-11-01 00:02:02 UTC       view     1004873  2053013555631882655   \n",
       "338       2019-11-01 00:02:36 UTC       view     5100816  2053013553375346967   \n",
       "384       2019-11-01 00:02:56 UTC       view     1005135  2053013555631882655   \n",
       "...                           ...        ...         ...                  ...   \n",
       "62500962  2019-11-30 23:59:41 UTC       view     3701309  2053013565983425517   \n",
       "62500971  2019-11-30 23:59:43 UTC       view     1004836  2053013555631882655   \n",
       "62500973  2019-11-30 23:59:44 UTC       cart     3701309  2053013565983425517   \n",
       "62500974  2019-11-30 23:59:44 UTC   purchase    26205399  2053013563693335403   \n",
       "62500985  2019-11-30 23:59:52 UTC       cart    26400248  2053013563651392361   \n",
       "\n",
       "                          category_code    brand    price    user_id  \\\n",
       "49                                  NaN     sulu    51.48  520956879   \n",
       "224                     apparel.costume      NaN   136.43  516426931   \n",
       "253              electronics.smartphone  samsung   362.29  524356542   \n",
       "338                                 NaN   xiaomi    29.58  524356542   \n",
       "384              electronics.smartphone    apple  1665.36  562210838   \n",
       "...                                 ...      ...      ...        ...   \n",
       "62500962  appliances.environment.vacuum  polaris    89.32  543733099   \n",
       "62500971         electronics.smartphone  samsung   229.59  517876634   \n",
       "62500973  appliances.environment.vacuum  polaris    89.32  543733099   \n",
       "62500974                            NaN      NaN   179.16  553345124   \n",
       "62500985                            NaN      NaN   132.31  535135317   \n",
       "\n",
       "                                  user_session  user_session_c  \\\n",
       "49        88e782d0-cb8f-4b25-b09c-6dd9bce06832               3   \n",
       "224       b36a7084-888d-4e37-bad4-cec9cfb1fbce               4   \n",
       "253       2f44a6ff-59aa-458c-acef-aee764d2ce10              24   \n",
       "338       2f44a6ff-59aa-458c-acef-aee764d2ce10              24   \n",
       "384       a58d94c8-c0d4-4f24-bf3c-04c4e69ea153              13   \n",
       "...                                        ...             ...   \n",
       "62500962  a65116f4-ac53-4a41-ad68-6606788e674c              33   \n",
       "62500971  79428fc0-959b-4a17-8079-e11493c81f48               2   \n",
       "62500973  a65116f4-ac53-4a41-ad68-6606788e674c              33   \n",
       "62500974  58c692ff-c7a9-4e35-9ec4-58598f1940e0              16   \n",
       "62500985  61792a26-672f-4e61-9832-7b63bb1714db               2   \n",
       "\n",
       "         category_code_1 category_code_2 category_code_3 category_code_4  \\\n",
       "49                   NaN             NaN             NaN             NaN   \n",
       "224              apparel             NaN         costume             NaN   \n",
       "253          electronics             NaN      smartphone             NaN   \n",
       "338                  NaN             NaN             NaN             NaN   \n",
       "384          electronics             NaN      smartphone             NaN   \n",
       "...                  ...             ...             ...             ...   \n",
       "62500962      appliances     environment          vacuum             NaN   \n",
       "62500971     electronics             NaN      smartphone             NaN   \n",
       "62500973      appliances     environment          vacuum             NaN   \n",
       "62500974             NaN             NaN             NaN             NaN   \n",
       "62500985             NaN             NaN             NaN             NaN   \n",
       "\n",
       "          user_top_10  \n",
       "49                  1  \n",
       "224                 1  \n",
       "253                 1  \n",
       "338                 1  \n",
       "384                 1  \n",
       "...               ...  \n",
       "62500962            1  \n",
       "62500971            1  \n",
       "62500973            1  \n",
       "62500974            1  \n",
       "62500985            1  \n",
       "\n",
       "[3383219 rows x 15 columns]"
      ]
     },
     "execution_count": 180,
     "metadata": {},
     "output_type": "execute_result"
    }
   ],
   "source": [
    "df_top10 = pd.read_csv('../data/top_10_EB_data.csv', index_col=0)\n",
    "df_top10"
   ]
  },
  {
   "cell_type": "code",
   "execution_count": 115,
   "id": "e27e8e67-215e-44b4-9a42-f83f8f5f9b2a",
   "metadata": {
    "collapsed": true,
    "jupyter": {
     "outputs_hidden": true
    },
    "tags": []
   },
   "outputs": [
    {
     "data": {
      "text/html": [
       "<div>\n",
       "<style scoped>\n",
       "    .dataframe tbody tr th:only-of-type {\n",
       "        vertical-align: middle;\n",
       "    }\n",
       "\n",
       "    .dataframe tbody tr th {\n",
       "        vertical-align: top;\n",
       "    }\n",
       "\n",
       "    .dataframe thead th {\n",
       "        text-align: right;\n",
       "    }\n",
       "</style>\n",
       "<table border=\"1\" class=\"dataframe\">\n",
       "  <thead>\n",
       "    <tr style=\"text-align: right;\">\n",
       "      <th></th>\n",
       "      <th>event_time</th>\n",
       "      <th>event_type</th>\n",
       "      <th>product_id</th>\n",
       "      <th>category_id</th>\n",
       "      <th>category_code</th>\n",
       "      <th>brand</th>\n",
       "      <th>price</th>\n",
       "      <th>user_id</th>\n",
       "      <th>user_session</th>\n",
       "      <th>user_session_c</th>\n",
       "      <th>category_code_1</th>\n",
       "      <th>category_code_2</th>\n",
       "      <th>category_code_3</th>\n",
       "      <th>category_code_4</th>\n",
       "      <th>user_top_10</th>\n",
       "    </tr>\n",
       "  </thead>\n",
       "  <tbody>\n",
       "    <tr>\n",
       "      <th>639</th>\n",
       "      <td>2019-11-01 00:04:51 UTC</td>\n",
       "      <td>purchase</td>\n",
       "      <td>1004856</td>\n",
       "      <td>2053013555631882655</td>\n",
       "      <td>electronics.smartphone</td>\n",
       "      <td>samsung</td>\n",
       "      <td>128.42</td>\n",
       "      <td>562958505</td>\n",
       "      <td>0f039697-fedc-40fa-8830-39c1a024351d</td>\n",
       "      <td>4</td>\n",
       "      <td>electronics</td>\n",
       "      <td>NaN</td>\n",
       "      <td>smartphone</td>\n",
       "      <td>NaN</td>\n",
       "      <td>1</td>\n",
       "    </tr>\n",
       "    <tr>\n",
       "      <th>855</th>\n",
       "      <td>2019-11-01 00:06:33 UTC</td>\n",
       "      <td>purchase</td>\n",
       "      <td>1801881</td>\n",
       "      <td>2053013554415534427</td>\n",
       "      <td>electronics.video.tv</td>\n",
       "      <td>samsung</td>\n",
       "      <td>488.80</td>\n",
       "      <td>557746614</td>\n",
       "      <td>4d76d6d3-fff5-4880-8327-e9e57b618e0e</td>\n",
       "      <td>25</td>\n",
       "      <td>electronics</td>\n",
       "      <td>video</td>\n",
       "      <td>tv</td>\n",
       "      <td>NaN</td>\n",
       "      <td>1</td>\n",
       "    </tr>\n",
       "    <tr>\n",
       "      <th>858</th>\n",
       "      <td>2019-11-01 00:06:34 UTC</td>\n",
       "      <td>purchase</td>\n",
       "      <td>5800823</td>\n",
       "      <td>2053013553945772349</td>\n",
       "      <td>electronics.audio.subwoofer</td>\n",
       "      <td>nakamichi</td>\n",
       "      <td>123.56</td>\n",
       "      <td>514166940</td>\n",
       "      <td>8ef5214a-86ad-4d0b-8df3-4280dd411b47</td>\n",
       "      <td>3</td>\n",
       "      <td>electronics</td>\n",
       "      <td>audio</td>\n",
       "      <td>subwoofer</td>\n",
       "      <td>NaN</td>\n",
       "      <td>1</td>\n",
       "    </tr>\n",
       "    <tr>\n",
       "      <th>1351</th>\n",
       "      <td>2019-11-01 00:10:12 UTC</td>\n",
       "      <td>purchase</td>\n",
       "      <td>1801881</td>\n",
       "      <td>2053013554415534427</td>\n",
       "      <td>electronics.video.tv</td>\n",
       "      <td>samsung</td>\n",
       "      <td>488.80</td>\n",
       "      <td>557746614</td>\n",
       "      <td>4d76d6d3-fff5-4880-8327-e9e57b618e0e</td>\n",
       "      <td>25</td>\n",
       "      <td>electronics</td>\n",
       "      <td>video</td>\n",
       "      <td>tv</td>\n",
       "      <td>NaN</td>\n",
       "      <td>1</td>\n",
       "    </tr>\n",
       "    <tr>\n",
       "      <th>1434</th>\n",
       "      <td>2019-11-01 00:10:47 UTC</td>\n",
       "      <td>purchase</td>\n",
       "      <td>1005124</td>\n",
       "      <td>2053013555631882655</td>\n",
       "      <td>electronics.smartphone</td>\n",
       "      <td>apple</td>\n",
       "      <td>1583.48</td>\n",
       "      <td>562210838</td>\n",
       "      <td>a58d94c8-c0d4-4f24-bf3c-04c4e69ea153</td>\n",
       "      <td>13</td>\n",
       "      <td>electronics</td>\n",
       "      <td>NaN</td>\n",
       "      <td>smartphone</td>\n",
       "      <td>NaN</td>\n",
       "      <td>1</td>\n",
       "    </tr>\n",
       "    <tr>\n",
       "      <th>...</th>\n",
       "      <td>...</td>\n",
       "      <td>...</td>\n",
       "      <td>...</td>\n",
       "      <td>...</td>\n",
       "      <td>...</td>\n",
       "      <td>...</td>\n",
       "      <td>...</td>\n",
       "      <td>...</td>\n",
       "      <td>...</td>\n",
       "      <td>...</td>\n",
       "      <td>...</td>\n",
       "      <td>...</td>\n",
       "      <td>...</td>\n",
       "      <td>...</td>\n",
       "      <td>...</td>\n",
       "    </tr>\n",
       "    <tr>\n",
       "      <th>62500774</th>\n",
       "      <td>2019-11-30 23:58:08 UTC</td>\n",
       "      <td>purchase</td>\n",
       "      <td>1004767</td>\n",
       "      <td>2053013555631882655</td>\n",
       "      <td>electronics.smartphone</td>\n",
       "      <td>samsung</td>\n",
       "      <td>235.60</td>\n",
       "      <td>574868869</td>\n",
       "      <td>878a1538-ebe3-4d7f-b773-1b057b1971eb</td>\n",
       "      <td>7</td>\n",
       "      <td>electronics</td>\n",
       "      <td>NaN</td>\n",
       "      <td>smartphone</td>\n",
       "      <td>NaN</td>\n",
       "      <td>1</td>\n",
       "    </tr>\n",
       "    <tr>\n",
       "      <th>62500783</th>\n",
       "      <td>2019-11-30 23:58:14 UTC</td>\n",
       "      <td>purchase</td>\n",
       "      <td>1004874</td>\n",
       "      <td>2053013555631882655</td>\n",
       "      <td>electronics.smartphone</td>\n",
       "      <td>samsung</td>\n",
       "      <td>346.70</td>\n",
       "      <td>547804983</td>\n",
       "      <td>717566cf-ef93-4078-ba8f-169a3ac9f1a0</td>\n",
       "      <td>25</td>\n",
       "      <td>electronics</td>\n",
       "      <td>NaN</td>\n",
       "      <td>smartphone</td>\n",
       "      <td>NaN</td>\n",
       "      <td>1</td>\n",
       "    </tr>\n",
       "    <tr>\n",
       "      <th>62500800</th>\n",
       "      <td>2019-11-30 23:58:22 UTC</td>\n",
       "      <td>purchase</td>\n",
       "      <td>1005130</td>\n",
       "      <td>2053013555631882655</td>\n",
       "      <td>electronics.smartphone</td>\n",
       "      <td>apple</td>\n",
       "      <td>1437.02</td>\n",
       "      <td>515582054</td>\n",
       "      <td>829c20b5-696e-4a8a-8a9f-171014a3ecbe</td>\n",
       "      <td>6</td>\n",
       "      <td>electronics</td>\n",
       "      <td>NaN</td>\n",
       "      <td>smartphone</td>\n",
       "      <td>NaN</td>\n",
       "      <td>1</td>\n",
       "    </tr>\n",
       "    <tr>\n",
       "      <th>62500906</th>\n",
       "      <td>2019-11-30 23:59:15 UTC</td>\n",
       "      <td>purchase</td>\n",
       "      <td>3701309</td>\n",
       "      <td>2053013565983425517</td>\n",
       "      <td>appliances.environment.vacuum</td>\n",
       "      <td>polaris</td>\n",
       "      <td>89.32</td>\n",
       "      <td>543733099</td>\n",
       "      <td>a65116f4-ac53-4a41-ad68-6606788e674c</td>\n",
       "      <td>33</td>\n",
       "      <td>appliances</td>\n",
       "      <td>environment</td>\n",
       "      <td>vacuum</td>\n",
       "      <td>NaN</td>\n",
       "      <td>1</td>\n",
       "    </tr>\n",
       "    <tr>\n",
       "      <th>62500974</th>\n",
       "      <td>2019-11-30 23:59:44 UTC</td>\n",
       "      <td>purchase</td>\n",
       "      <td>26205399</td>\n",
       "      <td>2053013563693335403</td>\n",
       "      <td>NaN</td>\n",
       "      <td>NaN</td>\n",
       "      <td>179.16</td>\n",
       "      <td>553345124</td>\n",
       "      <td>58c692ff-c7a9-4e35-9ec4-58598f1940e0</td>\n",
       "      <td>16</td>\n",
       "      <td>NaN</td>\n",
       "      <td>NaN</td>\n",
       "      <td>NaN</td>\n",
       "      <td>NaN</td>\n",
       "      <td>1</td>\n",
       "    </tr>\n",
       "  </tbody>\n",
       "</table>\n",
       "<p>282158 rows × 15 columns</p>\n",
       "</div>"
      ],
      "text/plain": [
       "                       event_time event_type  product_id          category_id  \\\n",
       "639       2019-11-01 00:04:51 UTC   purchase     1004856  2053013555631882655   \n",
       "855       2019-11-01 00:06:33 UTC   purchase     1801881  2053013554415534427   \n",
       "858       2019-11-01 00:06:34 UTC   purchase     5800823  2053013553945772349   \n",
       "1351      2019-11-01 00:10:12 UTC   purchase     1801881  2053013554415534427   \n",
       "1434      2019-11-01 00:10:47 UTC   purchase     1005124  2053013555631882655   \n",
       "...                           ...        ...         ...                  ...   \n",
       "62500774  2019-11-30 23:58:08 UTC   purchase     1004767  2053013555631882655   \n",
       "62500783  2019-11-30 23:58:14 UTC   purchase     1004874  2053013555631882655   \n",
       "62500800  2019-11-30 23:58:22 UTC   purchase     1005130  2053013555631882655   \n",
       "62500906  2019-11-30 23:59:15 UTC   purchase     3701309  2053013565983425517   \n",
       "62500974  2019-11-30 23:59:44 UTC   purchase    26205399  2053013563693335403   \n",
       "\n",
       "                          category_code      brand    price    user_id  \\\n",
       "639              electronics.smartphone    samsung   128.42  562958505   \n",
       "855                electronics.video.tv    samsung   488.80  557746614   \n",
       "858         electronics.audio.subwoofer  nakamichi   123.56  514166940   \n",
       "1351               electronics.video.tv    samsung   488.80  557746614   \n",
       "1434             electronics.smartphone      apple  1583.48  562210838   \n",
       "...                                 ...        ...      ...        ...   \n",
       "62500774         electronics.smartphone    samsung   235.60  574868869   \n",
       "62500783         electronics.smartphone    samsung   346.70  547804983   \n",
       "62500800         electronics.smartphone      apple  1437.02  515582054   \n",
       "62500906  appliances.environment.vacuum    polaris    89.32  543733099   \n",
       "62500974                            NaN        NaN   179.16  553345124   \n",
       "\n",
       "                                  user_session  user_session_c  \\\n",
       "639       0f039697-fedc-40fa-8830-39c1a024351d               4   \n",
       "855       4d76d6d3-fff5-4880-8327-e9e57b618e0e              25   \n",
       "858       8ef5214a-86ad-4d0b-8df3-4280dd411b47               3   \n",
       "1351      4d76d6d3-fff5-4880-8327-e9e57b618e0e              25   \n",
       "1434      a58d94c8-c0d4-4f24-bf3c-04c4e69ea153              13   \n",
       "...                                        ...             ...   \n",
       "62500774  878a1538-ebe3-4d7f-b773-1b057b1971eb               7   \n",
       "62500783  717566cf-ef93-4078-ba8f-169a3ac9f1a0              25   \n",
       "62500800  829c20b5-696e-4a8a-8a9f-171014a3ecbe               6   \n",
       "62500906  a65116f4-ac53-4a41-ad68-6606788e674c              33   \n",
       "62500974  58c692ff-c7a9-4e35-9ec4-58598f1940e0              16   \n",
       "\n",
       "         category_code_1 category_code_2 category_code_3 category_code_4  \\\n",
       "639          electronics             NaN      smartphone             NaN   \n",
       "855          electronics           video              tv             NaN   \n",
       "858          electronics           audio       subwoofer             NaN   \n",
       "1351         electronics           video              tv             NaN   \n",
       "1434         electronics             NaN      smartphone             NaN   \n",
       "...                  ...             ...             ...             ...   \n",
       "62500774     electronics             NaN      smartphone             NaN   \n",
       "62500783     electronics             NaN      smartphone             NaN   \n",
       "62500800     electronics             NaN      smartphone             NaN   \n",
       "62500906      appliances     environment          vacuum             NaN   \n",
       "62500974             NaN             NaN             NaN             NaN   \n",
       "\n",
       "          user_top_10  \n",
       "639                 1  \n",
       "855                 1  \n",
       "858                 1  \n",
       "1351                1  \n",
       "1434                1  \n",
       "...               ...  \n",
       "62500774            1  \n",
       "62500783            1  \n",
       "62500800            1  \n",
       "62500906            1  \n",
       "62500974            1  \n",
       "\n",
       "[282158 rows x 15 columns]"
      ]
     },
     "execution_count": 115,
     "metadata": {},
     "output_type": "execute_result"
    }
   ],
   "source": [
    "df_top10_purchase = df_top10.query('event_type == \"purchase\"')\n",
    "df_top10_purchase"
   ]
  },
  {
   "cell_type": "code",
   "execution_count": 116,
   "id": "b8e9dd29-38d2-4688-a9e7-228252df10ac",
   "metadata": {},
   "outputs": [],
   "source": [
    "df_top10_value = df_top10_purchase['brand'].value_counts()"
   ]
  },
  {
   "cell_type": "code",
   "execution_count": 12,
   "id": "620ea139-ee3b-4eb4-bbe9-a3b9a0d6d95d",
   "metadata": {},
   "outputs": [
    {
     "data": {
      "text/plain": [
       "count     267282\n",
       "unique      1587\n",
       "top        apple\n",
       "freq      104155\n",
       "Name: brand, dtype: object"
      ]
     },
     "execution_count": 12,
     "metadata": {},
     "output_type": "execute_result"
    }
   ],
   "source": [
    "df_top10_purchase['brand'].describe()"
   ]
  },
  {
   "cell_type": "code",
   "execution_count": 117,
   "id": "f491a21e-a8ac-4889-af52-68fdf8646459",
   "metadata": {
    "tags": []
   },
   "outputs": [
    {
     "data": {
      "text/plain": [
       "count      1587.000000\n",
       "mean        168.419660\n",
       "std        3126.829579\n",
       "min           1.000000\n",
       "25%           2.000000\n",
       "50%           5.000000\n",
       "75%          18.000000\n",
       "max      104155.000000\n",
       "Name: brand, dtype: float64"
      ]
     },
     "execution_count": 117,
     "metadata": {},
     "output_type": "execute_result"
    }
   ],
   "source": [
    "df_top10_purchase['brand'].value_counts().describe()"
   ]
  },
  {
   "cell_type": "code",
   "execution_count": 18,
   "id": "382e96ba-f920-4e69-aeba-7d6fb44c4d81",
   "metadata": {},
   "outputs": [
    {
     "data": {
      "text/plain": [
       "1587"
      ]
     },
     "execution_count": 18,
     "metadata": {},
     "output_type": "execute_result"
    }
   ],
   "source": [
    "df_top10_purchase['brand'].nunique()"
   ]
  },
  {
   "cell_type": "code",
   "execution_count": 160,
   "id": "4e4b1b66-dd0a-44d9-99a3-a02254f6076a",
   "metadata": {},
   "outputs": [
    {
     "data": {
      "text/plain": [
       "apple      104155\n",
       "samsung     65773\n",
       "xiaomi      15120\n",
       "huawei       5882\n",
       "lucente      5164\n",
       "lg           4322\n",
       "oppo         4048\n",
       "sony         3758\n",
       "acer         2789\n",
       "lenovo       2379\n",
       "Name: brand, dtype: int64"
      ]
     },
     "execution_count": 160,
     "metadata": {},
     "output_type": "execute_result"
    }
   ],
   "source": [
    "sr_df_top10 = df_top10_value.nlargest(10, keep='all')\n",
    "sr_df_top10"
   ]
  },
  {
   "cell_type": "code",
   "execution_count": null,
   "id": "cab11221-4486-4efb-9252-d2755193c64e",
   "metadata": {},
   "outputs": [],
   "source": []
  },
  {
   "cell_type": "code",
   "execution_count": null,
   "id": "2341ffd3-6e54-4010-8e6f-a1cb997d0727",
   "metadata": {},
   "outputs": [],
   "source": []
  },
  {
   "cell_type": "code",
   "execution_count": null,
   "id": "77829898-88d2-4a35-bd82-588952553f61",
   "metadata": {},
   "outputs": [],
   "source": []
  },
  {
   "cell_type": "markdown",
   "id": "91d3ac37-ff1a-4c61-99e8-e39fd7d723a0",
   "metadata": {},
   "source": [
    "# 가장 많이 팔린 브랜드 상위 10개(주문 건수)"
   ]
  },
  {
   "cell_type": "code",
   "execution_count": 48,
   "id": "d3a7566d-4cbc-482d-92d5-6a057509e05f",
   "metadata": {},
   "outputs": [
    {
     "data": {
      "text/plain": [
       "apple      104155\n",
       "samsung     65773\n",
       "xiaomi      15120\n",
       "huawei       5882\n",
       "lucente      5164\n",
       "lg           4322\n",
       "oppo         4048\n",
       "sony         3758\n",
       "acer         2789\n",
       "lenovo       2379\n",
       "Name: brand, dtype: int64"
      ]
     },
     "execution_count": 48,
     "metadata": {},
     "output_type": "execute_result"
    }
   ],
   "source": [
    "df_brand_top10 = df_top10_value.nlargest(10, keep='all')\n",
    "df_brand_top10"
   ]
  },
  {
   "cell_type": "code",
   "execution_count": 28,
   "id": "7db3cac8-3d5c-459a-ab48-dad250ab6624",
   "metadata": {},
   "outputs": [
    {
     "data": {
      "text/plain": [
       "pandas.core.series.Series"
      ]
     },
     "execution_count": 28,
     "metadata": {},
     "output_type": "execute_result"
    }
   ],
   "source": [
    "type(df_brand_top10)"
   ]
  },
  {
   "cell_type": "code",
   "execution_count": 55,
   "id": "6883b1d0-ae2c-4c93-a363-1f111eb7dd92",
   "metadata": {
    "tags": []
   },
   "outputs": [
    {
     "data": {
      "image/png": "[encoded data removed]",
      "text/plain": [
       "<Figure size 800x800 with 1 Axes>"
      ]
     },
     "metadata": {},
     "output_type": "display_data"
    }
   ],
   "source": [
    "df_brand_top10.plot(kind='pie',\n",
    "                        figsize=(8, 8),\n",
    "                        startangle=10,\n",
    "                        colors=['red','blue', 'orange','chocolate', 'bisque', 'cadetblue', 'black', 'yellow', 'purple', 'grey'])\n",
    "plt.title('Brand top10', size=30)\n",
    "plt.axis('equal')\n",
    "plt.legend(df_brand_top10.index, loc='upper right')\n",
    "plt.show()"
   ]
  },
  {
   "cell_type": "markdown",
   "id": "3b96131f-bce6-416f-bcb8-6bb91417eb36",
   "metadata": {},
   "source": [
    "# 가장 많은 매출을 올린 브랜드 상위10개 기업"
   ]
  },
  {
   "cell_type": "code",
   "execution_count": 126,
   "id": "5baec78a-087a-4801-8961-a96b97308d76",
   "metadata": {},
   "outputs": [
    {
     "data": {
      "text/plain": [
       "145478126.64999998"
      ]
     },
     "execution_count": 126,
     "metadata": {},
     "output_type": "execute_result"
    }
   ],
   "source": [
    "total_sum = df_top10_purchase['price'].sum()\n",
    "total_sum"
   ]
  },
  {
   "cell_type": "code",
   "execution_count": 123,
   "id": "a94e0c82-170f-4fd8-b928-35a508257265",
   "metadata": {},
   "outputs": [
    {
     "data": {
      "text/plain": [
       "brand\n",
       "a-case          258.23\n",
       "a-mega           25.74\n",
       "acer        1713363.79\n",
       "achilles        222.40\n",
       "acm              34.49\n",
       "               ...    \n",
       "zlatek           51.46\n",
       "zotac          1665.66\n",
       "zte            2061.27\n",
       "zubr           2531.07\n",
       "zuru             25.68\n",
       "Name: price, Length: 1587, dtype: float64"
      ]
     },
     "execution_count": 123,
     "metadata": {},
     "output_type": "execute_result"
    }
   ],
   "source": [
    "brand_sum = df_top10_purchase.groupby('brand').sum('price')\n",
    "brand_sum['price']"
   ]
  },
  {
   "cell_type": "code",
   "execution_count": 128,
   "id": "9f6d84ac-0902-4db3-9ef7-92388a367441",
   "metadata": {},
   "outputs": [
    {
     "data": {
      "text/plain": [
       "product_id        9.215405e+10\n",
       "category_id      -4.766128e+18\n",
       "price             2.312420e+07\n",
       "user_id           3.591168e+13\n",
       "user_session_c    7.159260e+05\n",
       "user_top_10       6.577300e+04\n",
       "Name: samsung, dtype: float64"
      ]
     },
     "execution_count": 128,
     "metadata": {},
     "output_type": "execute_result"
    }
   ],
   "source": [
    "brand_sum.loc['samsung']"
   ]
  },
  {
   "cell_type": "code",
   "execution_count": 137,
   "id": "77629e42-1255-4662-95bf-75766a8142e4",
   "metadata": {},
   "outputs": [
    {
     "data": {
      "text/plain": [
       "brand\n",
       "apple      91947069.07\n",
       "samsung    23124202.03\n",
       "xiaomi      2934678.43\n",
       "lg          2174553.10\n",
       "sony        1857953.72\n",
       "acer        1713363.79\n",
       "lucente     1431728.76\n",
       "huawei      1390417.32\n",
       "lenovo      1206600.89\n",
       "oppo        1074227.96\n",
       "Name: price, dtype: float64"
      ]
     },
     "execution_count": 137,
     "metadata": {},
     "output_type": "execute_result"
    }
   ],
   "source": [
    "sr_brand_total = brand_sum['price'].nlargest(10, keep='all')\n",
    "sr_brand_total"
   ]
  },
  {
   "cell_type": "code",
   "execution_count": 145,
   "id": "ff1edeea-f77a-4cad-af81-6684d22ab5fb",
   "metadata": {},
   "outputs": [
    {
     "data": {
      "text/html": [
       "<div>\n",
       "<style scoped>\n",
       "    .dataframe tbody tr th:only-of-type {\n",
       "        vertical-align: middle;\n",
       "    }\n",
       "\n",
       "    .dataframe tbody tr th {\n",
       "        vertical-align: top;\n",
       "    }\n",
       "\n",
       "    .dataframe thead th {\n",
       "        text-align: right;\n",
       "    }\n",
       "</style>\n",
       "<table border=\"1\" class=\"dataframe\">\n",
       "  <thead>\n",
       "    <tr style=\"text-align: right;\">\n",
       "      <th></th>\n",
       "      <th>price</th>\n",
       "    </tr>\n",
       "    <tr>\n",
       "      <th>brand</th>\n",
       "      <th></th>\n",
       "    </tr>\n",
       "  </thead>\n",
       "  <tbody>\n",
       "    <tr>\n",
       "      <th>apple</th>\n",
       "      <td>91947069.07</td>\n",
       "    </tr>\n",
       "    <tr>\n",
       "      <th>samsung</th>\n",
       "      <td>23124202.03</td>\n",
       "    </tr>\n",
       "    <tr>\n",
       "      <th>xiaomi</th>\n",
       "      <td>2934678.43</td>\n",
       "    </tr>\n",
       "    <tr>\n",
       "      <th>lg</th>\n",
       "      <td>2174553.10</td>\n",
       "    </tr>\n",
       "    <tr>\n",
       "      <th>sony</th>\n",
       "      <td>1857953.72</td>\n",
       "    </tr>\n",
       "    <tr>\n",
       "      <th>acer</th>\n",
       "      <td>1713363.79</td>\n",
       "    </tr>\n",
       "    <tr>\n",
       "      <th>lucente</th>\n",
       "      <td>1431728.76</td>\n",
       "    </tr>\n",
       "    <tr>\n",
       "      <th>huawei</th>\n",
       "      <td>1390417.32</td>\n",
       "    </tr>\n",
       "    <tr>\n",
       "      <th>lenovo</th>\n",
       "      <td>1206600.89</td>\n",
       "    </tr>\n",
       "    <tr>\n",
       "      <th>oppo</th>\n",
       "      <td>1074227.96</td>\n",
       "    </tr>\n",
       "  </tbody>\n",
       "</table>\n",
       "</div>"
      ],
      "text/plain": [
       "               price\n",
       "brand               \n",
       "apple    91947069.07\n",
       "samsung  23124202.03\n",
       "xiaomi    2934678.43\n",
       "lg        2174553.10\n",
       "sony      1857953.72\n",
       "acer      1713363.79\n",
       "lucente   1431728.76\n",
       "huawei    1390417.32\n",
       "lenovo    1206600.89\n",
       "oppo      1074227.96"
      ]
     },
     "execution_count": 145,
     "metadata": {},
     "output_type": "execute_result"
    }
   ],
   "source": [
    "df_total = pd.DataFrame(sr_brand_total)\n",
    "df_total"
   ]
  },
  {
   "cell_type": "code",
   "execution_count": 153,
   "id": "3e6525b1-66e5-41fd-80e0-884dadd9954f",
   "metadata": {},
   "outputs": [],
   "source": [
    "df_total['brand'] = sr_brand_total.index\n",
    "df_total['price'] = sr_brand_total.to_list()"
   ]
  },
  {
   "cell_type": "code",
   "execution_count": 157,
   "id": "744b3611-34dc-46a6-acc0-99099e3c82b0",
   "metadata": {
    "tags": []
   },
   "outputs": [
    {
     "data": {
      "text/plain": [
       "Text(0, 0.5, 'Total Price')"
      ]
     },
     "execution_count": 157,
     "metadata": {},
     "output_type": "execute_result"
    },
    {
     "data": {
      "image/png": "[encoded data removed]",
      "text/plain": [
       "<Figure size 640x480 with 1 Axes>"
      ]
     },
     "metadata": {},
     "output_type": "display_data"
    }
   ],
   "source": [
    "plt.figure()\n",
    "sns.set_theme(style=\"whitegrid\") \n",
    "ax = sns.barplot(data = df_total, x='brand', y='price')\n",
    "ax.set_title('Sum price top 10 brand')\n",
    "ax.set_xlabel('Brand')\n",
    "ax.set_ylabel('Total Price')"
   ]
  },
  {
   "cell_type": "code",
   "execution_count": null,
   "id": "9cd51523-986e-4d98-8c2b-3fff1c17edd2",
   "metadata": {},
   "outputs": [],
   "source": []
  },
  {
   "cell_type": "code",
   "execution_count": null,
   "id": "12486549-c200-4d57-8571-aa9915ced412",
   "metadata": {},
   "outputs": [],
   "source": []
  },
  {
   "cell_type": "markdown",
   "id": "eb9fc1de-d547-46c4-affe-458ccbf61348",
   "metadata": {},
   "source": [
    "# 가장 많은 event_type을 발생시키는 상위 10개 브랜드"
   ]
  },
  {
   "cell_type": "code",
   "execution_count": 171,
   "id": "699bf667-1d69-40e8-919d-555941d070c5",
   "metadata": {},
   "outputs": [
    {
     "data": {
      "text/plain": [
       "view        2626336\n",
       "cart         474725\n",
       "purchase     282158\n",
       "Name: event_type, dtype: int64"
      ]
     },
     "execution_count": 171,
     "metadata": {},
     "output_type": "execute_result"
    }
   ],
   "source": [
    "df_top10['event_type'].value_counts()"
   ]
  },
  {
   "cell_type": "code",
   "execution_count": 198,
   "id": "f6c362b6-365b-4071-b1e5-248cdc58f739",
   "metadata": {},
   "outputs": [
    {
     "data": {
      "text/plain": [
       "brand               event_type\n",
       "apple               view          623406\n",
       "samsung             view          363181\n",
       "apple               cart          175601\n",
       "xiaomi              view          126009\n",
       "samsung             cart          108374\n",
       "                                   ...  \n",
       "stikbot             cart               1\n",
       "likatoprofessional  cart               1\n",
       "avengers            view               1\n",
       "likato              view               1\n",
       "maxima              purchase           1\n",
       "Length: 6772, dtype: int64"
      ]
     },
     "execution_count": 198,
     "metadata": {},
     "output_type": "execute_result"
    }
   ],
   "source": [
    "sr_type_brand = df_top10[['brand', 'event_type']].value_counts()\n",
    "sr_type_brand"
   ]
  },
  {
   "cell_type": "code",
   "execution_count": 199,
   "id": "41186ccd-a28c-475c-83c6-a1f3a42f73ad",
   "metadata": {},
   "outputs": [
    {
     "data": {
      "text/html": [
       "<div>\n",
       "<style scoped>\n",
       "    .dataframe tbody tr th:only-of-type {\n",
       "        vertical-align: middle;\n",
       "    }\n",
       "\n",
       "    .dataframe tbody tr th {\n",
       "        vertical-align: top;\n",
       "    }\n",
       "\n",
       "    .dataframe thead th {\n",
       "        text-align: right;\n",
       "    }\n",
       "</style>\n",
       "<table border=\"1\" class=\"dataframe\">\n",
       "  <thead>\n",
       "    <tr style=\"text-align: right;\">\n",
       "      <th></th>\n",
       "      <th></th>\n",
       "      <th>0</th>\n",
       "    </tr>\n",
       "    <tr>\n",
       "      <th>brand</th>\n",
       "      <th>event_type</th>\n",
       "      <th></th>\n",
       "    </tr>\n",
       "  </thead>\n",
       "  <tbody>\n",
       "    <tr>\n",
       "      <th>apple</th>\n",
       "      <th>view</th>\n",
       "      <td>623406</td>\n",
       "    </tr>\n",
       "    <tr>\n",
       "      <th>samsung</th>\n",
       "      <th>view</th>\n",
       "      <td>363181</td>\n",
       "    </tr>\n",
       "    <tr>\n",
       "      <th>apple</th>\n",
       "      <th>cart</th>\n",
       "      <td>175601</td>\n",
       "    </tr>\n",
       "    <tr>\n",
       "      <th>xiaomi</th>\n",
       "      <th>view</th>\n",
       "      <td>126009</td>\n",
       "    </tr>\n",
       "    <tr>\n",
       "      <th>samsung</th>\n",
       "      <th>cart</th>\n",
       "      <td>108374</td>\n",
       "    </tr>\n",
       "    <tr>\n",
       "      <th>...</th>\n",
       "      <th>...</th>\n",
       "      <td>...</td>\n",
       "    </tr>\n",
       "    <tr>\n",
       "      <th>stikbot</th>\n",
       "      <th>cart</th>\n",
       "      <td>1</td>\n",
       "    </tr>\n",
       "    <tr>\n",
       "      <th>likatoprofessional</th>\n",
       "      <th>cart</th>\n",
       "      <td>1</td>\n",
       "    </tr>\n",
       "    <tr>\n",
       "      <th>avengers</th>\n",
       "      <th>view</th>\n",
       "      <td>1</td>\n",
       "    </tr>\n",
       "    <tr>\n",
       "      <th>likato</th>\n",
       "      <th>view</th>\n",
       "      <td>1</td>\n",
       "    </tr>\n",
       "    <tr>\n",
       "      <th>maxima</th>\n",
       "      <th>purchase</th>\n",
       "      <td>1</td>\n",
       "    </tr>\n",
       "  </tbody>\n",
       "</table>\n",
       "<p>6772 rows × 1 columns</p>\n",
       "</div>"
      ],
      "text/plain": [
       "                                    0\n",
       "brand              event_type        \n",
       "apple              view        623406\n",
       "samsung            view        363181\n",
       "apple              cart        175601\n",
       "xiaomi             view        126009\n",
       "samsung            cart        108374\n",
       "...                               ...\n",
       "stikbot            cart             1\n",
       "likatoprofessional cart             1\n",
       "avengers           view             1\n",
       "likato             view             1\n",
       "maxima             purchase         1\n",
       "\n",
       "[6772 rows x 1 columns]"
      ]
     },
     "execution_count": 199,
     "metadata": {},
     "output_type": "execute_result"
    }
   ],
   "source": [
    "df_event_total = pd.DataFrame(sr_type_brand)\n",
    "df_event_total"
   ]
  },
  {
   "cell_type": "code",
   "execution_count": 192,
   "id": "ab63687b-1833-49c7-9181-99ba143021de",
   "metadata": {},
   "outputs": [],
   "source": [
    "#df_event_total['brand'] = sr_type_brand.index\n",
    "#df_event_total['event_type'] = sr_type_brand.to_list()"
   ]
  },
  {
   "cell_type": "code",
   "execution_count": 193,
   "id": "0c41c558-cd83-42ca-a1e1-ac9573b29d5e",
   "metadata": {
    "collapsed": true,
    "jupyter": {
     "outputs_hidden": true
    },
    "tags": []
   },
   "outputs": [
    {
     "data": {
      "text/html": [
       "<div>\n",
       "<style scoped>\n",
       "    .dataframe tbody tr th:only-of-type {\n",
       "        vertical-align: middle;\n",
       "    }\n",
       "\n",
       "    .dataframe tbody tr th {\n",
       "        vertical-align: top;\n",
       "    }\n",
       "\n",
       "    .dataframe thead th {\n",
       "        text-align: right;\n",
       "    }\n",
       "</style>\n",
       "<table border=\"1\" class=\"dataframe\">\n",
       "  <thead>\n",
       "    <tr style=\"text-align: right;\">\n",
       "      <th></th>\n",
       "      <th></th>\n",
       "      <th>0</th>\n",
       "      <th>brand</th>\n",
       "      <th>event_type</th>\n",
       "    </tr>\n",
       "    <tr>\n",
       "      <th>brand</th>\n",
       "      <th>event_type</th>\n",
       "      <th></th>\n",
       "      <th></th>\n",
       "      <th></th>\n",
       "    </tr>\n",
       "  </thead>\n",
       "  <tbody>\n",
       "    <tr>\n",
       "      <th>apple</th>\n",
       "      <th>view</th>\n",
       "      <td>623406</td>\n",
       "      <td>(apple, view)</td>\n",
       "      <td>623406</td>\n",
       "    </tr>\n",
       "    <tr>\n",
       "      <th>samsung</th>\n",
       "      <th>view</th>\n",
       "      <td>363181</td>\n",
       "      <td>(samsung, view)</td>\n",
       "      <td>363181</td>\n",
       "    </tr>\n",
       "    <tr>\n",
       "      <th>apple</th>\n",
       "      <th>cart</th>\n",
       "      <td>175601</td>\n",
       "      <td>(apple, cart)</td>\n",
       "      <td>175601</td>\n",
       "    </tr>\n",
       "    <tr>\n",
       "      <th>xiaomi</th>\n",
       "      <th>view</th>\n",
       "      <td>126009</td>\n",
       "      <td>(xiaomi, view)</td>\n",
       "      <td>126009</td>\n",
       "    </tr>\n",
       "    <tr>\n",
       "      <th>samsung</th>\n",
       "      <th>cart</th>\n",
       "      <td>108374</td>\n",
       "      <td>(samsung, cart)</td>\n",
       "      <td>108374</td>\n",
       "    </tr>\n",
       "    <tr>\n",
       "      <th>...</th>\n",
       "      <th>...</th>\n",
       "      <td>...</td>\n",
       "      <td>...</td>\n",
       "      <td>...</td>\n",
       "    </tr>\n",
       "    <tr>\n",
       "      <th>stikbot</th>\n",
       "      <th>cart</th>\n",
       "      <td>1</td>\n",
       "      <td>(stikbot, cart)</td>\n",
       "      <td>1</td>\n",
       "    </tr>\n",
       "    <tr>\n",
       "      <th>likatoprofessional</th>\n",
       "      <th>cart</th>\n",
       "      <td>1</td>\n",
       "      <td>(likatoprofessional, cart)</td>\n",
       "      <td>1</td>\n",
       "    </tr>\n",
       "    <tr>\n",
       "      <th>avengers</th>\n",
       "      <th>view</th>\n",
       "      <td>1</td>\n",
       "      <td>(avengers, view)</td>\n",
       "      <td>1</td>\n",
       "    </tr>\n",
       "    <tr>\n",
       "      <th>likato</th>\n",
       "      <th>view</th>\n",
       "      <td>1</td>\n",
       "      <td>(likato, view)</td>\n",
       "      <td>1</td>\n",
       "    </tr>\n",
       "    <tr>\n",
       "      <th>maxima</th>\n",
       "      <th>purchase</th>\n",
       "      <td>1</td>\n",
       "      <td>(maxima, purchase)</td>\n",
       "      <td>1</td>\n",
       "    </tr>\n",
       "  </tbody>\n",
       "</table>\n",
       "<p>6772 rows × 3 columns</p>\n",
       "</div>"
      ],
      "text/plain": [
       "                                    0                       brand  event_type\n",
       "brand              event_type                                                \n",
       "apple              view        623406               (apple, view)      623406\n",
       "samsung            view        363181             (samsung, view)      363181\n",
       "apple              cart        175601               (apple, cart)      175601\n",
       "xiaomi             view        126009              (xiaomi, view)      126009\n",
       "samsung            cart        108374             (samsung, cart)      108374\n",
       "...                               ...                         ...         ...\n",
       "stikbot            cart             1             (stikbot, cart)           1\n",
       "likatoprofessional cart             1  (likatoprofessional, cart)           1\n",
       "avengers           view             1            (avengers, view)           1\n",
       "likato             view             1              (likato, view)           1\n",
       "maxima             purchase         1          (maxima, purchase)           1\n",
       "\n",
       "[6772 rows x 3 columns]"
      ]
     },
     "execution_count": 193,
     "metadata": {},
     "output_type": "execute_result"
    }
   ],
   "source": [
    "#df_event_total"
   ]
  },
  {
   "cell_type": "code",
   "execution_count": 195,
   "id": "05eee70e-d080-4cf4-97f6-58e47c55a36f",
   "metadata": {},
   "outputs": [
    {
     "data": {
      "text/plain": [
       "pandas.core.frame.DataFrame"
      ]
     },
     "execution_count": 195,
     "metadata": {},
     "output_type": "execute_result"
    }
   ],
   "source": [
    "type(df_event_total)"
   ]
  },
  {
   "cell_type": "code",
   "execution_count": 206,
   "id": "1e08ba79-76b7-4b41-a595-85d910e79a50",
   "metadata": {
    "tags": []
   },
   "outputs": [
    {
     "data": {
      "text/plain": [
       "brand\n",
       "a-case                   636\n",
       "a-derma                    7\n",
       "a-mega                    25\n",
       "aardwolf                   7\n",
       "absolutechampion           3\n",
       "abtoys                     5\n",
       "academie                   5\n",
       "accord                     2\n",
       "acd                        1\n",
       "acer                   44225\n",
       "aces                       4\n",
       "achilles                  38\n",
       "acm                       45\n",
       "acme                    1123\n",
       "acqua                      3\n",
       "acron                      3\n",
       "actiontrack                2\n",
       "activision               182\n",
       "acuvue                    83\n",
       "acv                      133\n",
       "acvilagrup                 3\n",
       "adagio                    26\n",
       "adam                      20\n",
       "adamas                   410\n",
       "adamex                   300\n",
       "adata                    317\n",
       "addlink                    1\n",
       "adel                      11\n",
       "adelline                  65\n",
       "adidas                  1448\n",
       "adil                    1048\n",
       "adile                    109\n",
       "admarginem                 1\n",
       "admira                    22\n",
       "adriatica                317\n",
       "advan                     58\n",
       "aeg                       76\n",
       "aeolus                    24\n",
       "aero                     521\n",
       "aerocool                1389\n",
       "aeroforce                771\n",
       "aerolajf                   1\n",
       "aerosystem               108\n",
       "afnan                    100\n",
       "afox                      33\n",
       "ag                         7\n",
       "agatharuizdelaprada       91\n",
       "agl                       11\n",
       "agness                   185\n",
       "agu                       42\n",
       "Name: 0, dtype: int64"
      ]
     },
     "execution_count": 206,
     "metadata": {},
     "output_type": "execute_result"
    }
   ],
   "source": [
    "gr_type_brand = df_event_total.groupby('brand').sum(0)\n",
    "gr_type_brand[0].head(50)"
   ]
  },
  {
   "cell_type": "code",
   "execution_count": 210,
   "id": "ed3795fb-bd73-4160-813a-a3a7dba73c51",
   "metadata": {},
   "outputs": [
    {
     "data": {
      "text/plain": [
       "brand\n",
       "apple      903162\n",
       "samsung    537328\n",
       "xiaomi     167056\n",
       "lucente     76175\n",
       "huawei      58165\n",
       "lg          55758\n",
       "sony        47586\n",
       "lenovo      45027\n",
       "acer        44225\n",
       "oppo        36710\n",
       "Name: 0, dtype: int64"
      ]
     },
     "execution_count": 210,
     "metadata": {},
     "output_type": "execute_result"
    }
   ],
   "source": [
    "event_type_brand_total = gr_type_brand[0].nlargest(10, keep='all')\n",
    "event_type_brand_total"
   ]
  },
  {
   "cell_type": "code",
   "execution_count": 212,
   "id": "da2a2b3e-18de-4be3-9d90-0fbf4885102c",
   "metadata": {
    "collapsed": true,
    "jupyter": {
     "outputs_hidden": true
    },
    "tags": []
   },
   "outputs": [
    {
     "data": {
      "text/html": [
       "<div>\n",
       "<style scoped>\n",
       "    .dataframe tbody tr th:only-of-type {\n",
       "        vertical-align: middle;\n",
       "    }\n",
       "\n",
       "    .dataframe tbody tr th {\n",
       "        vertical-align: top;\n",
       "    }\n",
       "\n",
       "    .dataframe thead th {\n",
       "        text-align: right;\n",
       "    }\n",
       "</style>\n",
       "<table border=\"1\" class=\"dataframe\">\n",
       "  <thead>\n",
       "    <tr style=\"text-align: right;\">\n",
       "      <th></th>\n",
       "      <th>0</th>\n",
       "    </tr>\n",
       "    <tr>\n",
       "      <th>brand</th>\n",
       "      <th></th>\n",
       "    </tr>\n",
       "  </thead>\n",
       "  <tbody>\n",
       "    <tr>\n",
       "      <th>apple</th>\n",
       "      <td>903162</td>\n",
       "    </tr>\n",
       "    <tr>\n",
       "      <th>samsung</th>\n",
       "      <td>537328</td>\n",
       "    </tr>\n",
       "    <tr>\n",
       "      <th>xiaomi</th>\n",
       "      <td>167056</td>\n",
       "    </tr>\n",
       "    <tr>\n",
       "      <th>lucente</th>\n",
       "      <td>76175</td>\n",
       "    </tr>\n",
       "    <tr>\n",
       "      <th>huawei</th>\n",
       "      <td>58165</td>\n",
       "    </tr>\n",
       "    <tr>\n",
       "      <th>lg</th>\n",
       "      <td>55758</td>\n",
       "    </tr>\n",
       "    <tr>\n",
       "      <th>sony</th>\n",
       "      <td>47586</td>\n",
       "    </tr>\n",
       "    <tr>\n",
       "      <th>lenovo</th>\n",
       "      <td>45027</td>\n",
       "    </tr>\n",
       "    <tr>\n",
       "      <th>acer</th>\n",
       "      <td>44225</td>\n",
       "    </tr>\n",
       "    <tr>\n",
       "      <th>oppo</th>\n",
       "      <td>36710</td>\n",
       "    </tr>\n",
       "  </tbody>\n",
       "</table>\n",
       "</div>"
      ],
      "text/plain": [
       "              0\n",
       "brand          \n",
       "apple    903162\n",
       "samsung  537328\n",
       "xiaomi   167056\n",
       "lucente   76175\n",
       "huawei    58165\n",
       "lg        55758\n",
       "sony      47586\n",
       "lenovo    45027\n",
       "acer      44225\n",
       "oppo      36710"
      ]
     },
     "execution_count": 212,
     "metadata": {},
     "output_type": "execute_result"
    }
   ],
   "source": [
    "df_total1 = pd.DataFrame(event_type_brand_total)\n",
    "df_total1"
   ]
  },
  {
   "cell_type": "code",
   "execution_count": 213,
   "id": "396a9fb2-4cc0-40b7-b068-434fc23b82cb",
   "metadata": {},
   "outputs": [],
   "source": [
    "df_total1['brand'] = event_type_brand_total.index\n",
    "df_total1[0] = event_type_brand_total.to_list()"
   ]
  },
  {
   "cell_type": "code",
   "execution_count": 219,
   "id": "6ee18458-3c52-4e56-9cc4-4f0f2cad262e",
   "metadata": {},
   "outputs": [
    {
     "data": {
      "text/plain": [
       "Text(0, 0.5, 'Behavior')"
      ]
     },
     "execution_count": 219,
     "metadata": {},
     "output_type": "execute_result"
    },
    {
     "data": {
      "image/png": "[encoded data removed]",
      "text/plain": [
       "<Figure size 640x480 with 1 Axes>"
      ]
     },
     "metadata": {},
     "output_type": "display_data"
    }
   ],
   "source": [
    "plt.figure()\n",
    "sns.set_theme(style=\"whitegrid\") \n",
    "ax = sns.barplot(data = df_total1, x='brand', y=0)\n",
    "ax.set_title('Total behavior sum top 10 brand')\n",
    "ax.set_xlabel('Brand')\n",
    "ax.set_ylabel('Behavior')"
   ]
  },
  {
   "cell_type": "code",
   "execution_count": null,
   "id": "d4c23c79-51f7-4411-b5dd-6828a5aeb371",
   "metadata": {},
   "outputs": [],
   "source": []
  },
  {
   "cell_type": "code",
   "execution_count": null,
   "id": "328dc64d-8f15-4b3b-8e67-be43e6013e9d",
   "metadata": {},
   "outputs": [],
   "source": []
  },
  {
   "cell_type": "code",
   "execution_count": null,
   "id": "69b8f256-4dc9-4988-8f11-18e5a21ca99b",
   "metadata": {},
   "outputs": [],
   "source": []
  }
 ],
 "metadata": {
  "kernelspec": {
   "display_name": "Python 3 (ipykernel)",
   "language": "python",
   "name": "python3"
  },
  "language_info": {
   "codemirror_mode": {
    "name": "ipython",
    "version": 3
   },
   "file_extension": ".py",
   "mimetype": "text/x-python",
   "name": "python",
   "nbconvert_exporter": "python",
   "pygments_lexer": "ipython3",
   "version": "3.9.13"
  }
 },
 "nbformat": 4,
 "nbformat_minor": 5
}
